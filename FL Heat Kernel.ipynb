{
 "cells": [
  {
   "cell_type": "code",
   "execution_count": 1,
   "id": "extreme-psychology",
   "metadata": {
    "id": "extreme-psychology"
   },
   "outputs": [],
   "source": [
    "import pytraj as pt\n",
    "import parmed as pmd\n",
    "import numpy as np\n",
    "import pandas as pd\n",
    "import matplotlib.pyplot as plt\n",
    "import torch\n",
    "import networkx as nx\n",
    "import scipy\n",
    "import pickle as pkl\n",
    "from tqdm.notebook import tqdm\n",
    "import plotly.express as px\n",
    "from plotly.subplots import make_subplots\n",
    "import plotly.graph_objects as go\n",
    "from scipy import exp\n",
    "from kneed import KneeLocator as KneedLoc"
   ]
  },
  {
   "cell_type": "code",
   "execution_count": 2,
   "id": "introductory-leader",
   "metadata": {
    "id": "introductory-leader"
   },
   "outputs": [],
   "source": [
    "# %matplotlib widget"
   ]
  },
  {
   "cell_type": "code",
   "execution_count": 3,
   "id": "da2cb34b",
   "metadata": {},
   "outputs": [],
   "source": [
    "plt.rcParams['font.family'] = 'Helvetica'"
   ]
  },
  {
   "cell_type": "markdown",
   "id": "featured-incentive",
   "metadata": {
    "id": "featured-incentive"
   },
   "source": [
    "<h1> Graph Normalization and Thresholding </h1>"
   ]
  },
  {
   "cell_type": "code",
   "execution_count": 4,
   "id": "foreign-singles",
   "metadata": {
    "id": "foreign-singles"
   },
   "outputs": [],
   "source": [
    "def compute_normalized_graph(matrix):\n",
    "    row_sums = matrix.sum(axis=1)\n",
    "    size = matrix.shape[0]\n",
    "    new_matrix = np.zeros((size,size))\n",
    "    for x,row in enumerate(matrix):\n",
    "        #for every column's row\n",
    "        for y, val in enumerate(row):\n",
    "            #for every value in row\n",
    "            current = val / row_sums[x] if row_sums[x] != 0 else 0\n",
    "            new_matrix[x,y] = max([current,new_matrix[y,x]])\n",
    "            new_matrix[y,x] = max([current,new_matrix[x,y]])\n",
    "\n",
    "    return new_matrix"
   ]
  },
  {
   "cell_type": "code",
   "execution_count": 5,
   "id": "frank-cornwall",
   "metadata": {
    "id": "frank-cornwall"
   },
   "outputs": [],
   "source": [
    "def threshold_normalized_graph(matrix, cutoff):\n",
    "    size = matrix.shape[0]\n",
    "    new_matrix = np.zeros((size,size))\n",
    "    for x,row in enumerate(matrix):\n",
    "        for y, val in enumerate(row):\n",
    "            new_matrix[x,y] = 1 if matrix[x,y] > cutoff else 0\n",
    "\n",
    "    return new_matrix"
   ]
  },
  {
   "cell_type": "markdown",
   "id": "empty-might",
   "metadata": {
    "id": "empty-might"
   },
   "source": [
    "<h1> Pairwise Energy Tensor Analysis </h1>"
   ]
  },
  {
   "cell_type": "code",
   "execution_count": 6,
   "id": "vital-heater",
   "metadata": {
    "id": "vital-heater"
   },
   "outputs": [],
   "source": [
    "def thresh_and_norm_matrix(tensor,channel,threshold):\n",
    "    #same function as above, just quicker to access here outside of the tensor class\n",
    "    '''\n",
    "    channel (int): the energy channel to compute for\n",
    "    threshold (float): the cutoff value\n",
    "\n",
    "    returns : (numpy.ndarray) matrix of matrices summed over common edges, normalized,\n",
    "    and thresholded\n",
    "    '''\n",
    "    energy_tensor = torch.Tensor(tensor[:,channel])\n",
    "    sum_matrix = torch.sum(energy_tensor, dim=0).numpy()\n",
    "    normalized = compute_normalized_graph(sum_matrix)\n",
    "    #thresholded is binary\n",
    "    thresholded = threshold_normalized_graph(normalized,threshold)\n",
    "    weighted_threshold = thresholded * normalized\n",
    "    return (thresholded,weighted_threshold)"
   ]
  },
  {
   "cell_type": "markdown",
   "id": "overhead-surveillance",
   "metadata": {
    "id": "overhead-surveillance"
   },
   "source": [
    "<h1> Heat Kernel Analysis:</h1>"
   ]
  },
  {
   "cell_type": "markdown",
   "id": "later-snake",
   "metadata": {
    "id": "later-snake"
   },
   "source": [
    "### Heat Kernel PCA (See: https://link.springer.com/chapter/10.1007/11815921_18)"
   ]
  },
  {
   "cell_type": "code",
   "execution_count": 7,
   "id": "sustained-devon",
   "metadata": {
    "id": "sustained-devon"
   },
   "outputs": [],
   "source": [
    "def matrix_exponentiation(eigenvectors,eigenvalues,t):\n",
    "    '''\n",
    "    Raise e^matrix where matrix is a square\n",
    "    '''\n",
    "    shape = eigenvectors.shape[0]\n",
    "    processed_eigenvalues = np.exp(-t*eigenvalues)\n",
    "    e_diagonal = np.diag(processed_eigenvalues)\n",
    "    return eigenvectors.dot(e_diagonal).dot(eigenvectors.transpose())\n",
    "\n",
    "def get_heat_kernel(matrix,t):\n",
    "    laplacian = scipy.sparse.csgraph.laplacian(matrix,normed=True)\n",
    "    (eigenvalues,eigenvectors) = np.linalg.eigh(laplacian)\n",
    "    x = matrix_exponentiation(eigenvectors,eigenvalues,t)\n",
    "    x = np.round(x, decimals = 6)\n",
    "    return x\n",
    "\n",
    "def kernel_from_energy_tensor_thresh(tensor,threshold,time):\n",
    "    kernels = np.zeros((tensor.shape[0], tensor.shape[2], tensor.shape[2]))\n",
    "    for i, matrix in enumerate(tensor):\n",
    "        normalized = compute_normalized_graph(matrix)\n",
    "        thresholded = threshold_normalized_graph(normalized,threshold)\n",
    "        final_mat = thresholded * normalized\n",
    "        kernel = get_heat_kernel(final_mat, time)\n",
    "        kernels[i] = kernel\n",
    "\n",
    "    return kernels"
   ]
  },
  {
   "cell_type": "code",
   "execution_count": 8,
   "id": "organized-hurricane",
   "metadata": {
    "id": "organized-hurricane"
   },
   "outputs": [],
   "source": [
    "from sklearn.decomposition import PCA\n",
    "\n",
    "def get_pca(kernel,dim):\n",
    "    pca = PCA(n_components=dim)\n",
    "    pca.fit(kernel)\n",
    "    transformed = pca.transform(kernel)\n",
    "    return (transformed, pca.explained_variance_)"
   ]
  },
  {
   "cell_type": "code",
   "execution_count": 9,
   "id": "future-pledge",
   "metadata": {
    "id": "future-pledge"
   },
   "outputs": [],
   "source": [
    "def make_shared_pca_df(kernels, num_components, show_var=False):\n",
    "    dfs = []\n",
    "    eigens=[]\n",
    "    for kernel in kernels:\n",
    "        (pcs, var) = get_pca(kernel, num_components)\n",
    "        df = pd.DataFrame(pcs)\n",
    "        dfs.append(df)\n",
    "        if show_var:\n",
    "            eigens+=[var]\n",
    "\n",
    "    return (eigens, pd.concat(dfs))"
   ]
  },
  {
   "cell_type": "markdown",
   "id": "violent-tutorial",
   "metadata": {
    "id": "violent-tutorial"
   },
   "source": [
    "# Energy Tensors:"
   ]
  },
  {
   "cell_type": "code",
   "execution_count": 10,
   "id": "1944c677",
   "metadata": {
    "id": "1944c677"
   },
   "outputs": [],
   "source": [
    "#etensor indexing: frame, row, column"
   ]
  },
  {
   "cell_type": "code",
   "execution_count": 11,
   "id": "77c4e74d",
   "metadata": {},
   "outputs": [],
   "source": [
    "def LoadData(file):\n",
    "    toReturn = []\n",
    "    with np.load(file) as data:\n",
    "        lst = data.files\n",
    "        for item in lst:\n",
    "            toReturn.append(data[item])\n",
    "    if len(toReturn) > 1: raise ValueError(f\"file has length {len(toReturn)}\")\n",
    "    return toReturn[0]"
   ]
  },
  {
   "cell_type": "code",
   "execution_count": 12,
   "id": "polar-words",
   "metadata": {
    "id": "polar-words",
    "scrolled": true
   },
   "outputs": [
    {
     "data": {
      "text/plain": [
       "array([[[0.        , 0.01327499, 0.01161556, ..., 0.00240205,\n",
       "         0.00159166, 0.00283909],\n",
       "        [0.01327499, 0.        , 0.01312647, ..., 0.00251648,\n",
       "         0.00221125, 0.00305427],\n",
       "        [0.01161556, 0.01312647, 0.        , ..., 0.00250009,\n",
       "         0.00219331, 0.0029989 ],\n",
       "        ...,\n",
       "        [0.00240205, 0.00251648, 0.00250009, ..., 0.        ,\n",
       "         0.01549334, 0.01476951],\n",
       "        [0.00159166, 0.00221125, 0.00219331, ..., 0.01549334,\n",
       "         0.        , 0.0181178 ],\n",
       "        [0.00283909, 0.00305427, 0.0029989 , ..., 0.01476951,\n",
       "         0.0181178 , 0.        ]],\n",
       "\n",
       "       [[0.        , 0.01225248, 0.01103093, ..., 0.00247762,\n",
       "         0.0016766 , 0.00302596],\n",
       "        [0.01225248, 0.        , 0.01403142, ..., 0.00264167,\n",
       "         0.00234268, 0.00333519],\n",
       "        [0.01103093, 0.01403142, 0.        , ..., 0.00254145,\n",
       "         0.00220687, 0.00318794],\n",
       "        ...,\n",
       "        [0.00247762, 0.00264167, 0.00254145, ..., 0.        ,\n",
       "         0.01856716, 0.01471809],\n",
       "        [0.0016766 , 0.00234268, 0.00220687, ..., 0.01856716,\n",
       "         0.        , 0.01790969],\n",
       "        [0.00302596, 0.00333519, 0.00318794, ..., 0.01471809,\n",
       "         0.01790969, 0.        ]],\n",
       "\n",
       "       [[0.        , 0.01239756, 0.01077097, ..., 0.00247757,\n",
       "         0.00167908, 0.00303966],\n",
       "        [0.01239756, 0.        , 0.01362278, ..., 0.00256537,\n",
       "         0.00229209, 0.00324561],\n",
       "        [0.01077097, 0.01362278, 0.        , ..., 0.00253698,\n",
       "         0.00224242, 0.00322083],\n",
       "        ...,\n",
       "        [0.00247757, 0.00256537, 0.00253698, ..., 0.        ,\n",
       "         0.0180091 , 0.01413834],\n",
       "        [0.00167908, 0.00229209, 0.00224242, ..., 0.0180091 ,\n",
       "         0.        , 0.01841592],\n",
       "        [0.00303966, 0.00324561, 0.00322083, ..., 0.01413834,\n",
       "         0.01841592, 0.        ]],\n",
       "\n",
       "       ...,\n",
       "\n",
       "       [[0.        , 0.01278684, 0.0088928 , ..., 0.00173804,\n",
       "         0.00175941, 0.001924  ],\n",
       "        [0.01278684, 0.        , 0.01244735, ..., 0.0027439 ,\n",
       "         0.00279002, 0.00302755],\n",
       "        [0.0088928 , 0.01244735, 0.        , ..., 0.00280565,\n",
       "         0.00286966, 0.00313988],\n",
       "        ...,\n",
       "        [0.00173804, 0.0027439 , 0.00280565, ..., 0.        ,\n",
       "         0.03197304, 0.02157112],\n",
       "        [0.00175941, 0.00279002, 0.00286966, ..., 0.03197304,\n",
       "         0.        , 0.03060646],\n",
       "        [0.001924  , 0.00302755, 0.00313988, ..., 0.02157112,\n",
       "         0.03060646, 0.        ]],\n",
       "\n",
       "       [[0.        , 0.01289665, 0.00940747, ..., 0.00166224,\n",
       "         0.00171332, 0.00185783],\n",
       "        [0.01289665, 0.        , 0.01187405, ..., 0.00261002,\n",
       "         0.00269949, 0.00279891],\n",
       "        [0.00940747, 0.01187405, 0.        , ..., 0.00265693,\n",
       "         0.00276971, 0.00287664],\n",
       "        ...,\n",
       "        [0.00166224, 0.00261002, 0.00265693, ..., 0.        ,\n",
       "         0.02470125, 0.0234478 ],\n",
       "        [0.00171332, 0.00269949, 0.00276971, ..., 0.02470125,\n",
       "         0.        , 0.02805137],\n",
       "        [0.00185783, 0.00279891, 0.00287664, ..., 0.0234478 ,\n",
       "         0.02805137, 0.        ]],\n",
       "\n",
       "       [[0.        , 0.01156907, 0.009572  , ..., 0.00188835,\n",
       "         0.00180513, 0.00209557],\n",
       "        [0.01156907, 0.        , 0.01186157, ..., 0.00290673,\n",
       "         0.00279609, 0.00280464],\n",
       "        [0.009572  , 0.01186157, 0.        , ..., 0.00302783,\n",
       "         0.00290989, 0.00290676],\n",
       "        ...,\n",
       "        [0.00188835, 0.00290673, 0.00302783, ..., 0.        ,\n",
       "         0.02402036, 0.01857121],\n",
       "        [0.00180513, 0.00279609, 0.00290989, ..., 0.02402036,\n",
       "         0.        , 0.02834322],\n",
       "        [0.00209557, 0.00280464, 0.00290676, ..., 0.01857121,\n",
       "         0.02834322, 0.        ]]])"
      ]
     },
     "execution_count": 12,
     "metadata": {},
     "output_type": "execute_result"
    }
   ],
   "source": [
    "# wt_etensor=np.load('/home/student5/Desktop/Energetics/elec_1.npz')\n",
    "# for x in wt_etensor:\n",
    "#     print(x)\n",
    "\n",
    "path = \"/home/student5/Desktop/Energetics/zfshomes/sstetson/End_Fall23-Pres/Analysis/FL/ff14SB/Energetics/\"\n",
    "wt_etensor = [\n",
    "    LoadData(path + f\"Rep1/WT/normal/elec_1-393/elec_{x}.npz\") for x in range(1, 1001)\n",
    "] + [\n",
    "    LoadData(path + f\"Rep2/WT/normal/elec_1-393/elec_{x}.npz\") for x in range(1, 1001)\n",
    "] + [\n",
    "    LoadData(path + f\"Rep3/WT/normal/elec_1-393/elec_{x}.npz\") for x in range(1, 1001)\n",
    "] + [\n",
    "    LoadData(path + f\"Rep4/WT/normal/elec_1-393/elec_{x}.npz\") for x in range(1, 1001)\n",
    "] + [\n",
    "    LoadData(path + f\"Short/Rep1/WT/normal/elec_1-393/elec_{x}.npz\") for x in range(1, 201)\n",
    "] + [\n",
    "    LoadData(path + f\"Short/Rep2/WT/normal/elec_1-393/elec_{x}.npz\") for x in range(1, 201)\n",
    "] + [\n",
    "    LoadData(path + f\"Short/Rep3/WT/normal/elec_1-393/elec_{x}.npz\") for x in range(1, 201)\n",
    "] + [\n",
    "    LoadData(path + f\"Short/Rep4/WT/normal/elec_1-393/elec_{x}.npz\") for x in range(1, 201)\n",
    "] + [\n",
    "    LoadData(path + f\"Short/Rep5/WT/normal/elec_1-393/elec_{x}.npz\") for x in range(1, 201)\n",
    "] + [\n",
    "    LoadData(path + f\"Short/Rep6/WT/normal/elec_1-393/elec_{x}.npz\") for x in range(1, 201)\n",
    "] + [\n",
    "    LoadData(path + f\"Short/Rep7/WT/normal/elec_1-393/elec_{x}.npz\") for x in range(1, 201)\n",
    "] + [\n",
    "    LoadData(path + f\"Short/Rep8/WT/normal/elec_1-393/elec_{x}.npz\") for x in range(1, 201)\n",
    "] + [\n",
    "    LoadData(path + f\"Short/Rep9/WT/normal/elec_1-393/elec_{x}.npz\") for x in range(1, 201)\n",
    "] + [\n",
    "    LoadData(path + f\"Short/Rep10/WT/normal/elec_1-393/elec_{x}.npz\") for x in range(1, 201)\n",
    "]\n",
    "\n",
    "wt_etensor = np.array(wt_etensor)\n",
    "wt_etensor"
   ]
  },
  {
   "cell_type": "markdown",
   "id": "neural-words",
   "metadata": {
    "id": "neural-words"
   },
   "source": [
    "### creating thresholded and normalized matrices of the energy tensors:\n",
    "##### this is done to check where we might want to cut off values in our subsequent tensor generation"
   ]
  },
  {
   "cell_type": "code",
   "execution_count": 13,
   "id": "ebaf0508",
   "metadata": {},
   "outputs": [],
   "source": [
    "def thresh_check(data, bins=50, thresh=None):\n",
    "    fig,ax=plt.subplots(layout=\"constrained\")\n",
    "    x = ax.hist(data.flatten(), bins=bins)\n",
    "    ax.set_xlabel(\"Normalized Edge Weight Value\")\n",
    "    ax.set_ylabel(\"Number of Edges\")\n",
    "    if thresh: ax.vlines([thresh], 0, 1, colors=\"red\", linestyles=\"-\", transform=ax.get_xaxis_transform())\n",
    "    fig.suptitle(f\"WT FL Distribution of Edge Weight: Thresh={thresh}\")\n",
    "    plt.savefig(\"WT_FL_EdgeWeightDist.png\", bbox_inches=\"tight\", dpi=300, transparent=False, facecolor=\"white\")\n",
    "    \n",
    "    return x"
   ]
  },
  {
   "cell_type": "code",
   "execution_count": 14,
   "id": "62dc4075",
   "metadata": {
    "colab": {
     "referenced_widgets": [
      "d9df7a1be0fd44adbe73420c95b2b744"
     ]
    },
    "id": "62dc4075",
    "outputId": "628d6286-00c8-4105-e3ef-2022b8f38772"
   },
   "outputs": [
    {
     "data": {
      "text/plain": [
       "(array([2.966400e+06, 4.245356e+06, 1.256752e+06, ..., 0.000000e+00,\n",
       "        0.000000e+00, 2.000000e+00]),\n",
       " array([0.        , 0.00190091, 0.00380182, ..., 0.09124379, 0.0931447 ,\n",
       "        0.09504562]),\n",
       " <BarContainer object of 50 artists>)"
      ]
     },
     "execution_count": 14,
     "metadata": {},
     "output_type": "execute_result"
    },
    {
     "data": {
      "image/png": "[encoded data removed]",
      "text/plain": [
       "<Figure size 432x288 with 1 Axes>"
      ]
     },
     "metadata": {
      "needs_background": "light"
     },
     "output_type": "display_data"
    }
   ],
   "source": [
    "thresh_check(wt_etensor[::100], thresh=0.002, bins=50)"
   ]
  },
  {
   "cell_type": "markdown",
   "id": "cbde52dc",
   "metadata": {
    "id": "cbde52dc"
   },
   "source": [
    "### Determining Time and Thresh Parameters"
   ]
  },
  {
   "cell_type": "code",
   "execution_count": 15,
   "id": "99703da6",
   "metadata": {
    "id": "99703da6"
   },
   "outputs": [],
   "source": [
    "time = 5\n",
    "thresh = 0.002\n",
    "num_of_pcs = 5\n",
    "etensor = wt_etensor\n",
    "\n",
    "kernel = kernel_from_energy_tensor_thresh(etensor,thresh,time)\n",
    "eigens, pcs = make_shared_pca_df(kernel,num_of_pcs,show_var=True)\n",
    "\n",
    "eigens_df = pd.DataFrame(eigens)\n",
    "mean_n_eigens = eigens_df.mean(axis=0)"
   ]
  },
  {
   "cell_type": "code",
   "execution_count": 16,
   "id": "f8e53419",
   "metadata": {
    "colab": {
     "referenced_widgets": [
      "bb92e483f75a43b6a81110ac17547132"
     ]
    },
    "id": "f8e53419",
    "outputId": "d2651dc2-f2d0-4179-92f9-12325bc6e355"
   },
   "outputs": [
    {
     "name": "stdout",
     "output_type": "stream",
     "text": [
      "Elbow Eigenvalue: 3\n"
     ]
    },
    {
     "name": "stderr",
     "output_type": "stream",
     "text": [
      "/tmp/ipykernel_78269/3156764766.py:4: UserWarning: Glyph 8722 (\\N{MINUS SIGN}) missing from current font.\n",
      "  plt.savefig(\"WT_PCA_Knee.png\", bbox_inches=\"tight\", dpi=300)\n",
      "/home/student5/anaconda3/envs/AmberTools23/lib/python3.11/site-packages/IPython/core/pylabtools.py:152: UserWarning: Glyph 8722 (\\N{MINUS SIGN}) missing from current font.\n",
      "  fig.canvas.print_figure(bytes_io, **kw)\n"
     ]
    },
    {
     "data": {
      "image/png": "[encoded data removed]",
      "text/plain": [
       "<Figure size 432x432 with 1 Axes>"
      ]
     },
     "metadata": {
      "needs_background": "light"
     },
     "output_type": "display_data"
    }
   ],
   "source": [
    "kneedl= KneedLoc(range(1,num_of_pcs+1), mean_n_eigens, S=1, curve=\"convex\", direction=\"decreasing\")\n",
    "print('Elbow Eigenvalue:', round(kneedl.elbow,3))\n",
    "kneedl.plot_knee()\n",
    "plt.savefig(\"WT_PCA_Knee.png\", bbox_inches=\"tight\", dpi=300)"
   ]
  },
  {
   "cell_type": "code",
   "execution_count": 33,
   "id": "9efd7c1d",
   "metadata": {
    "colab": {
     "referenced_widgets": [
      "f3136863a0c5410b853e2112535ff37e"
     ]
    },
    "id": "9efd7c1d",
    "outputId": "8580d814-bf0b-415d-8a9d-f2a5e9bc64ea"
   },
   "outputs": [
    {
     "data": {
      "image/png": "[encoded data removed]",
      "text/plain": [
       "<Figure size 432x432 with 1 Axes>"
      ]
     },
     "metadata": {
      "needs_background": "light"
     },
     "output_type": "display_data"
    }
   ],
   "source": [
    "kneedl.plot_knee_normalized()"
   ]
  },
  {
   "cell_type": "markdown",
   "id": "funded-arrow",
   "metadata": {
    "id": "funded-arrow"
   },
   "source": [
    "## PCA Embedding Heat Kernels:"
   ]
  },
  {
   "cell_type": "code",
   "execution_count": 17,
   "id": "potential-prototype",
   "metadata": {
    "id": "potential-prototype"
   },
   "outputs": [],
   "source": [
    "#getting the principle components from the heatkernel\n",
    "#changed the last argument to 2 and it changed stuff. Ask Dylan how many \"components\" I should be doing (2 or 3)? We want 3 typically\n",
    "(_,wt_pcs) = make_shared_pca_df(kernel,3)"
   ]
  },
  {
   "cell_type": "code",
   "execution_count": 18,
   "id": "4db50361",
   "metadata": {},
   "outputs": [
    {
     "data": {
      "text/html": [
       "<div>\n",
       "<style scoped>\n",
       "    .dataframe tbody tr th:only-of-type {\n",
       "        vertical-align: middle;\n",
       "    }\n",
       "\n",
       "    .dataframe tbody tr th {\n",
       "        vertical-align: top;\n",
       "    }\n",
       "\n",
       "    .dataframe thead th {\n",
       "        text-align: right;\n",
       "    }\n",
       "</style>\n",
       "<table border=\"1\" class=\"dataframe\">\n",
       "  <thead>\n",
       "    <tr style=\"text-align: right;\">\n",
       "      <th></th>\n",
       "      <th>0</th>\n",
       "      <th>1</th>\n",
       "      <th>2</th>\n",
       "    </tr>\n",
       "  </thead>\n",
       "  <tbody>\n",
       "    <tr>\n",
       "      <th>0</th>\n",
       "      <td>0.013909</td>\n",
       "      <td>0.000667</td>\n",
       "      <td>-0.001774</td>\n",
       "    </tr>\n",
       "    <tr>\n",
       "      <th>1</th>\n",
       "      <td>0.014512</td>\n",
       "      <td>0.002209</td>\n",
       "      <td>-0.001454</td>\n",
       "    </tr>\n",
       "    <tr>\n",
       "      <th>2</th>\n",
       "      <td>0.016042</td>\n",
       "      <td>0.002558</td>\n",
       "      <td>-0.001347</td>\n",
       "    </tr>\n",
       "    <tr>\n",
       "      <th>3</th>\n",
       "      <td>0.013296</td>\n",
       "      <td>0.000774</td>\n",
       "      <td>-0.001254</td>\n",
       "    </tr>\n",
       "    <tr>\n",
       "      <th>4</th>\n",
       "      <td>0.014855</td>\n",
       "      <td>0.004258</td>\n",
       "      <td>-0.000809</td>\n",
       "    </tr>\n",
       "    <tr>\n",
       "      <th>...</th>\n",
       "      <td>...</td>\n",
       "      <td>...</td>\n",
       "      <td>...</td>\n",
       "    </tr>\n",
       "    <tr>\n",
       "      <th>388</th>\n",
       "      <td>-0.005167</td>\n",
       "      <td>0.005749</td>\n",
       "      <td>0.002960</td>\n",
       "    </tr>\n",
       "    <tr>\n",
       "      <th>389</th>\n",
       "      <td>-0.004979</td>\n",
       "      <td>0.005844</td>\n",
       "      <td>0.002627</td>\n",
       "    </tr>\n",
       "    <tr>\n",
       "      <th>390</th>\n",
       "      <td>-0.005311</td>\n",
       "      <td>0.007110</td>\n",
       "      <td>0.001954</td>\n",
       "    </tr>\n",
       "    <tr>\n",
       "      <th>391</th>\n",
       "      <td>-0.005000</td>\n",
       "      <td>0.005733</td>\n",
       "      <td>0.002302</td>\n",
       "    </tr>\n",
       "    <tr>\n",
       "      <th>392</th>\n",
       "      <td>-0.004115</td>\n",
       "      <td>0.006751</td>\n",
       "      <td>0.002606</td>\n",
       "    </tr>\n",
       "  </tbody>\n",
       "</table>\n",
       "<p>2358000 rows × 3 columns</p>\n",
       "</div>"
      ],
      "text/plain": [
       "            0         1         2\n",
       "0    0.013909  0.000667 -0.001774\n",
       "1    0.014512  0.002209 -0.001454\n",
       "2    0.016042  0.002558 -0.001347\n",
       "3    0.013296  0.000774 -0.001254\n",
       "4    0.014855  0.004258 -0.000809\n",
       "..        ...       ...       ...\n",
       "388 -0.005167  0.005749  0.002960\n",
       "389 -0.004979  0.005844  0.002627\n",
       "390 -0.005311  0.007110  0.001954\n",
       "391 -0.005000  0.005733  0.002302\n",
       "392 -0.004115  0.006751  0.002606\n",
       "\n",
       "[2358000 rows x 3 columns]"
      ]
     },
     "execution_count": 18,
     "metadata": {},
     "output_type": "execute_result"
    }
   ],
   "source": [
    "wt_pcs"
   ]
  },
  {
   "cell_type": "markdown",
   "id": "focused-delight",
   "metadata": {
    "id": "focused-delight"
   },
   "source": [
    "## System Heat Kernel Shared PCA Plots"
   ]
  },
  {
   "cell_type": "code",
   "execution_count": 20,
   "id": "binary-wisconsin",
   "metadata": {
    "id": "binary-wisconsin"
   },
   "outputs": [],
   "source": [
    "#assigns res number to each pcs embedding\n",
    "def embedded_res_assign(frame_tot,res_tot,df):\n",
    "    lst=np.zeros(frame_tot*res_tot)\n",
    "    n=res_tot\n",
    "    res_idx=[]\n",
    "    i=1\n",
    "    res=1\n",
    "    while i<=len(lst):\n",
    "        if res>res_tot:\n",
    "            res=1\n",
    "            res_idx.append(res)\n",
    "        else:\n",
    "            res_idx.append(res)\n",
    "        res+=1\n",
    "        i+=1\n",
    "    df['res'] =res_idx\n",
    "    return df\n",
    "\n",
    "def embedded_frame_assign(frame_tot,res_tot,df):\n",
    "    lst=np.zeros(frame_tot*res_tot)\n",
    "    n=res_tot\n",
    "    frame_idx=[]\n",
    "    i=1\n",
    "    frame=0\n",
    "    while i<=len(lst):\n",
    "        if (i)%n==0:\n",
    "            frame_idx.append(frame)\n",
    "            frame+=1\n",
    "        else:\n",
    "            frame_idx.append(frame)\n",
    "        i+=1\n",
    "    df['frame'] =frame_idx\n",
    "    return df\n",
    "\n",
    "\n",
    "def heat_map(kernel,pcs):\n",
    "    diag_els=[]\n",
    "    for matrix in kernel[:]:\n",
    "        diag_element=np.diag(matrix)\n",
    "        diag_els+=[diag_element]\n",
    "    diag_flat=np.concatenate(diag_els)\n",
    "    #set the column called 'heat' to the flattened diagonal matrix consisting of the diagonal elements of the kernel\n",
    "    pcs['heat'] =diag_flat\n",
    "    return pcs\n",
    "\n",
    "#range_color1=[0.0112,0.0134]\n",
    "range_color1=[]\n",
    "xrng=[-0.013, 0.024]\n",
    "yrng=[-0.013, 0.015]\n",
    "def heat_map_plot(kernel,pcs,pc_b,title_name):\n",
    "    heat_pcs=heat_map(kernel,pcs)\n",
    "    heat_pcs_res0=embedded_res_assign(100,199,heat_pcs)\n",
    "    heat_pcs_res=embedded_frame_assign(100,199,heat_pcs)\n",
    "    fig=px.scatter(heat_pcs_res, x= 0, y= pc_b, color=\"heat\",range_color=range_color1,hover_data=[\"heat\",\"res\",\"frame\"], labels={ \"0\": \"PC1\",\"2\": \"PC3\"},title=title_name)\n",
    "    fig.update_layout(title_x=0.5)\n",
    "    fig.update_layout(title_yanchor=\"top\")\n",
    "    fig.update_traces(marker=dict(size=10))\n",
    "    fig.update_xaxes(range=xrng)\n",
    "    fig.update_yaxes(range=yrng)\n",
    "    fig.update_layout(font=dict(\n",
    "        family=\"Arial\",\n",
    "        size=16))\n",
    "    fig.show()\n",
    "\n",
    "def three_dim_heat_map_plot(kernel,pcs):\n",
    "    heat_pcs=heat_map(kernel,pcs)\n",
    "    heat_pcs_res0=embedded_res_assign(100,199,heat_pcs)\n",
    "    heat_pcs_res=embedded_frame_assign(100,199,heat_pcs)\n",
    "    fig=px.scatter_3d(pcs, x=0, y=1, z=2,color=\"heat\",hover_data=[\"heat\",\"res\",\"frame\"])\n",
    "    fig.update_traces(marker_size = 3)\n",
    "    fig.show()\n",
    "\n",
    "def heat_map_plot_resid(kernel,pcs,pc_b):\n",
    "    heat_pcs=heat_map(kernel,pcs)\n",
    "    heat_pcs_res=embedded_res_assign(100,199,heat_pcs)\n",
    "    fig=px.scatter(heat_pcs_res, x= 0, y= pc_b, color=\"res\",color_continuous_scale=px.colors.sequential.Turbo)\n",
    "    fig.update_traces(marker=dict(size=10))\n",
    "\n",
    "    fig.show()\n",
    "\n",
    "def heat_res_frame_map(kernel,pcs,num_frame,num_res):\n",
    "    heat_pcs=heat_map(kernel,pcs)\n",
    "    heat_pcs_res=embedded_res_assign(num_frame,num_res,heat_pcs)\n",
    "    heat_pcs_res_frame=embedded_frame_assign(num_frame,num_res,heat_pcs)\n",
    "    return heat_pcs_res_frame\n",
    "\n"
   ]
  },
  {
   "cell_type": "code",
   "execution_count": 21,
   "id": "ac8c9612",
   "metadata": {},
   "outputs": [],
   "source": [
    "wt_heat = heat_res_frame_map(kernel, wt_pcs, 6000, 393)"
   ]
  },
  {
   "cell_type": "code",
   "execution_count": 22,
   "id": "da1c8457",
   "metadata": {},
   "outputs": [],
   "source": [
    "wt_heat.to_csv(\"/home/student5/Desktop/Energetics/Processed/FL_WT_Long+Short_Elec_1-393.csv\")"
   ]
  },
  {
   "cell_type": "code",
   "execution_count": null,
   "id": "41d560c9",
   "metadata": {},
   "outputs": [],
   "source": [
    "fig = plt.figure()\n",
    "ax = fig.add_subplot(111, projection='3d')\n",
    "ax.scatter(wt_heat[0], wt_heat[1], wt_heat[2], c=wt_heat[\"heat\"], cmap=\"inferno\")"
   ]
  }
 ],
 "metadata": {
  "colab": {
   "provenance": []
  },
  "kernelspec": {
   "display_name": "AmberTools23",
   "language": "python",
   "name": "ambertools23"
  },
  "language_info": {
   "codemirror_mode": {
    "name": "ipython",
    "version": 3
   },
   "file_extension": ".py",
   "mimetype": "text/x-python",
   "name": "python",
   "nbconvert_exporter": "python",
   "pygments_lexer": "ipython3",
   "version": "3.11.4"
  }
 },
 "nbformat": 4,
 "nbformat_minor": 5
}
