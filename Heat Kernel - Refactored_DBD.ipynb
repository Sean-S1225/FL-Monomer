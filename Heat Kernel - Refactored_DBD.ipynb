{
 "cells": [
  {
   "cell_type": "markdown",
   "id": "ada96ee8",
   "metadata": {},
   "source": [
    "# Heat Kernel Generation and Analysis"
   ]
  },
  {
   "cell_type": "markdown",
   "id": "b73195e9",
   "metadata": {},
   "source": [
    "Given frames of locally normalized residue-residue pairwise energetic matrices, this step in the pipeline generates the heat kernel, provides the ability to determine the optimal cutoff and time values, then applies PCA on the reference data. Once these values are determined, the same values are used to generate the heat kernel and PCA of all other constructs being studied.\n",
    "\n",
    "Modified by Sean Stetson on Oct 31, 2024."
   ]
  },
  {
   "cell_type": "code",
   "execution_count": 1,
   "id": "7ab79441",
   "metadata": {},
   "outputs": [],
   "source": [
    "#Edit these to suit your system: \n",
    "NUM_FRAMES = 4000     # Number of frames per construct\n",
    "NUM_RESIDUES = 194\n",
    "\n",
    "# Path to matrix data\n",
    "path = \"/home/student5/Desktop/Energetics/zfshomes/sstetson/End_Fall23-Pres/Analysis/DBD/ff14SB/Energetics/\""
   ]
  },
  {
   "cell_type": "code",
   "execution_count": 2,
   "id": "extreme-psychology",
   "metadata": {
    "id": "extreme-psychology"
   },
   "outputs": [],
   "source": [
    "import numpy as np\n",
    "import pandas as pd\n",
    "import matplotlib.pyplot as plt\n",
    "import scipy\n",
    "import plotly.express as px\n",
    "from plotly.subplots import make_subplots\n",
    "import plotly.graph_objects as go\n",
    "from kneed import KneeLocator as KneedLoc\n",
    "from sklearn.decomposition import PCA\n",
    "from itertools import chain\n",
    "\n",
    "plt.rcParams[\"font.family\"] = \"Helvetica\""
   ]
  },
  {
   "cell_type": "code",
   "execution_count": 3,
   "id": "introductory-leader",
   "metadata": {
    "id": "introductory-leader"
   },
   "outputs": [],
   "source": [
    "# %matplotlib widget"
   ]
  },
  {
   "cell_type": "markdown",
   "id": "ebbae135",
   "metadata": {},
   "source": [
    "## Load and Process Data"
   ]
  },
  {
   "cell_type": "code",
   "execution_count": 4,
   "id": "frank-cornwall",
   "metadata": {
    "id": "frank-cornwall"
   },
   "outputs": [],
   "source": [
    "def LoadData(file: str) -> np.array:\n",
    "    \"\"\"\n",
    "    `file` contains the location to a .npz file. The data from the file is read in, and returned as a np.array.\n",
    "    The file `file` points to is expected to only contain a single n x n array, an error is thrown if this is not true,\n",
    "    since this means that means there is some sort of problem.  \n",
    "    \"\"\"\n",
    "    toReturn = []\n",
    "    with np.load(file) as data:\n",
    "        lst = data.files\n",
    "        for item in lst:\n",
    "            toReturn.append(data[item])\n",
    "    if len(toReturn) > 1: raise ValueError(f\"file has length {len(toReturn)}\")\n",
    "    return toReturn[0]\n",
    "    \n",
    "def ThresholdNormalizedGraph(matrix: np.array, cutoff: float):\n",
    "    \"\"\"\n",
    "    Given an n x n np.array (`matrix`), uses the provided `cutoff` to threshold all values lower than the cutoff to \n",
    "    zero. The input array is expected to already be normalized, which should be true if the matrix was generated\n",
    "    by the pairwise energetic calculation and thresholding script written by Sean Stetson.\n",
    "    \"\"\"\n",
    "    size = matrix.shape[0]\n",
    "    newMatrix = np.zeros((size, size))\n",
    "    for x, row in enumerate(matrix):\n",
    "        for y, val in enumerate(row):\n",
    "            newMatrix[x, y] = matrix[x, y] if matrix[x, y] > cutoff else 0\n",
    "\n",
    "    return newMatrix\n",
    "\n",
    "def TestThresh(data: np.ndarray, construct: str, binWidth: float = 0.001, thresh: float = None, hideAbove = 0.04) -> None:\n",
    "    \"\"\"\n",
    "    Given a np.ndarray (`data`), plots a histogram of edge weights so that the user may identify their cutoff point.\n",
    "    `construct` is a description of the construct being plotted, used in the title of the graph and file path of the image.\n",
    "    `binWidth` controls the width of the bins used in the histogram plot.\n",
    "    `thresh` is a proposed threshold value, if provided, is plotted as a vertical line along with the histogram to illustrate\n",
    "    what data will be cut off.\n",
    "    `hideAbove` hides all data above the value, which reduces visual clutter in the histogram. \n",
    "    \"\"\"\n",
    "    fig, ax = plt.subplots(layout = \"constrained\")\n",
    "    d = data.flatten()\n",
    "    d = d[d < hideAbove] # Some values exist beyone this range but aren\"t relevant for this step\n",
    "    x = ax.hist(d, bins = int((np.max(d) - np.min(d)) / binWidth))\n",
    "    ax.set_xlabel(\"Normalized Edge Weight Value\")\n",
    "    ax.set_ylabel(\"Number of Edges\")\n",
    "    if thresh: ax.vlines([thresh], 0, 1, colors = \"red\", linestyles = \"-\", transform = ax.get_xaxis_transform())\n",
    "    fig.suptitle(f\"{construct} Distribution of Edge Weight: Thresh = {thresh}\", fontsize=10)\n",
    "    plt.savefig(f\"{construct}_EdgeWeightDist.png\", bbox_inches = \"tight\", dpi = 300, transparent = False, facecolor = \"white\")"
   ]
  },
  {
   "cell_type": "markdown",
   "id": "overhead-surveillance",
   "metadata": {
    "id": "overhead-surveillance"
   },
   "source": [
    "## Heat Kernel Analysis\n",
    "See https://link.springer.com/chapter/10.1007/11815921_18 for detailed explanation"
   ]
  },
  {
   "cell_type": "code",
   "execution_count": 5,
   "id": "sustained-devon",
   "metadata": {
    "id": "sustained-devon"
   },
   "outputs": [],
   "source": [
    "def MatrixExponentiation(eigenvectors, eigenvalues, t):\n",
    "    \"\"\"\n",
    "    Raise e^matrix where matrix is a square\n",
    "    \"\"\"\n",
    "    shape = eigenvectors.shape[0]\n",
    "    processedEigenvalues = np.exp(-t*eigenvalues)\n",
    "    e_diagonal = np.diag(processedEigenvalues)\n",
    "    return eigenvectors.dot(e_diagonal).dot(eigenvectors.transpose())\n",
    "\n",
    "def GetHeatKernel(matrix: np.array, t: float) -> np.array:\n",
    "    \"\"\"\n",
    "    Computes the heat kernel for a specific matrix and time value\n",
    "    \"\"\"\n",
    "    laplacian = scipy.sparse.csgraph.laplacian(matrix, normed = True)\n",
    "    (eigenvalues, eigenvectors) = np.linalg.eigh(laplacian)\n",
    "    x = MatrixExponentiation(eigenvectors, eigenvalues, t)\n",
    "    x = np.round(x, decimals = 6)\n",
    "    return x\n",
    "\n",
    "def KernelFromEnergyTensorThresh(tensor: np.ndarray, threshold: float, time: float) -> np.ndarray:\n",
    "    \"\"\"\n",
    "    Given a data tensor (`tensor`), the threshold value (`threshold`), and the time value (`time`),\n",
    "    computes the heat kernel. \n",
    "    \"\"\"\n",
    "    kernels = np.zeros((tensor.shape[0], tensor.shape[1], tensor.shape[2]))\n",
    "    for i, matrix in enumerate(tensor):\n",
    "        thresholded = ThresholdNormalizedGraph(matrix, threshold)\n",
    "        kernel = GetHeatKernel(thresholded, time)\n",
    "        kernels[i] = kernel\n",
    "\n",
    "    return kernels"
   ]
  },
  {
   "cell_type": "markdown",
   "id": "6609c3f1",
   "metadata": {},
   "source": [
    "## PCA"
   ]
  },
  {
   "cell_type": "code",
   "execution_count": 6,
   "id": "organized-hurricane",
   "metadata": {
    "id": "organized-hurricane"
   },
   "outputs": [],
   "source": [
    "def GetPCA(kernel: np.ndarray, dim: int) -> tuple[np.ndarray, np.ndarray]:\n",
    "    \"\"\"\n",
    "    Computes the PC decomposition of `kernel` with `dim` number of components.\n",
    "    Returns the transformed data and the explained variance of the data.\n",
    "    \"\"\"\n",
    "    pca = PCA(n_components = dim)\n",
    "    pca.fit(kernel)\n",
    "    transformed = pca.transform(kernel)\n",
    "    return (transformed, pca.explained_variance_)\n",
    "\n",
    "def MakePCA_DF(kernels: np.ndarray, numComponents: int, showVar: bool = False) -> tuple[np.ndarray | None, np.ndarray]:\n",
    "    \"\"\"\n",
    "    Given a tensor of heat kernel data, computes the PC decomposition of each element with\n",
    "    `numComponents` number of components. Returns the explained variance if `showVar == True`,\n",
    "    and None otherwise, and returns the transformed tensor.\n",
    "    \"\"\"\n",
    "    dfs = []\n",
    "    eigens = []\n",
    "    for kernel in kernels:\n",
    "        (pcs, var) = GetPCA(kernel, numComponents)\n",
    "        dfs.append(pd.DataFrame(pcs))\n",
    "        if showVar:\n",
    "            eigens += [var]\n",
    "\n",
    "    return (eigens, pd.concat(dfs))"
   ]
  },
  {
   "cell_type": "markdown",
   "id": "focused-delight",
   "metadata": {
    "id": "focused-delight"
   },
   "source": [
    "## Format Output"
   ]
  },
  {
   "cell_type": "code",
   "execution_count": 7,
   "id": "binary-wisconsin",
   "metadata": {
    "id": "binary-wisconsin"
   },
   "outputs": [],
   "source": [
    "def AssignResNum(numFrames: int, numRes: int, df: pd.DataFrame) -> pd.DataFrame:\n",
    "    \"\"\"\n",
    "    Given a dataframe, adds the column \"res\" to it, which keeps track of residue number.\n",
    "    The precondition is that the dataframe is organized such that it lists all resides\n",
    "    in increasing order for frame 1, then frame 2, and so on. Returns the modified dataframe.\n",
    "    \"\"\"\n",
    "    df[\"res\"] = (list(range(numRes)) * numFrames)\n",
    "    return df\n",
    "\n",
    "def AssignFrameNum(numFrames: int, numRes: int, df: pd.DataFrame) -> pd.DataFrame:\n",
    "    \"\"\"\n",
    "    Given a dataframe, adds the column \"frame\" to it, which keeps track of the frame number.\n",
    "    The precondition is that the dataframe is organized such that it lists all resides\n",
    "    in increasing order for frame 1, then frame 2, and so on. Returns the modified dataframe.\n",
    "    \"\"\"\n",
    "    framesList = [[x] * numRes for x in range(numFrames)]\n",
    "    df[\"frame\"] = list(chain(*framesList)) # unpacks the nested list\n",
    "    return df\n",
    "\n",
    "def MapToHeat(kernel: np.ndarray, df: pd.DataFrame) -> pd.DataFrame:\n",
    "    \"\"\"\n",
    "    Given a dataframe, adds the column \"heat\" to it, which keeps track of the heat value.\n",
    "    The precondition is that the dataframe is organized such that it lists all resides\n",
    "    in increasing order for frame 1, then frame 2, and so on. Returns the modified dataframe.\n",
    "    \"\"\"\n",
    "    diagEls = []\n",
    "    for matrix in kernel[:]:\n",
    "        diagElement = np.diag(matrix)\n",
    "        diagEls += [diagElement]\n",
    "    diagDBDat = np.concatenate(diagEls)\n",
    "    #set the column called \"heat\" to the DBDattened diagonal matrix consisting of the diagonal elements of the kernel\n",
    "    df[\"heat\"] = diagDBDat\n",
    "    return df\n",
    "\n",
    "def mapPCsToHeatRes(pcs: pd.DataFrame, kernel: np.ndarray) -> pd.DataFrame:\n",
    "    \"\"\"\n",
    "    Given a dataframe that contains the PC data of the heat kernel, adds\n",
    "    the columns \"res\", \"frame\", and \"heat\".\n",
    "    Returns the modified dataframe.\n",
    "    \"\"\"\n",
    "    pcs = pcs.copy()\n",
    "    \n",
    "    pcs = MapToHeat(kernel, pcs)\n",
    "    \n",
    "    pcs[\"res\"] = [x + 1 for x in (list(range(NUM_RESIDUES)) * NUM_FRAMES)]\n",
    "    \n",
    "    framesList = [[x] * NUM_RESIDUES for x in range(NUM_FRAMES)]\n",
    "    pcs[\"frame\"] = list(chain(*framesList)) # unpacks the nested list\n",
    "\n",
    "    return pcs"
   ]
  },
  {
   "cell_type": "markdown",
   "id": "0f051f01",
   "metadata": {},
   "source": [
    "## Determine Cutoff, Time Values for Reference System"
   ]
  },
  {
   "cell_type": "code",
   "execution_count": 8,
   "id": "polar-words",
   "metadata": {
    "id": "polar-words",
    "scrolled": true
   },
   "outputs": [
    {
     "data": {
      "text/plain": [
       "array([[[0.        , 0.01941373, 0.01205954, ..., 0.0038218 ,\n",
       "         0.00498352, 0.00538636],\n",
       "        [0.01941373, 0.        , 0.0165852 , ..., 0.00366992,\n",
       "         0.00484092, 0.00522209],\n",
       "        [0.01205954, 0.0165852 , 0.        , ..., 0.00342556,\n",
       "         0.00449098, 0.00490984],\n",
       "        ...,\n",
       "        [0.0038218 , 0.00366992, 0.00342556, ..., 0.        ,\n",
       "         0.02678466, 0.0283807 ],\n",
       "        [0.00498352, 0.00484092, 0.00449098, ..., 0.02678466,\n",
       "         0.        , 0.02640505],\n",
       "        [0.00538636, 0.00522209, 0.00490984, ..., 0.0283807 ,\n",
       "         0.02640505, 0.        ]],\n",
       "\n",
       "       [[0.        , 0.01698401, 0.01116091, ..., 0.00320898,\n",
       "         0.0041294 , 0.00438208],\n",
       "        [0.01698401, 0.        , 0.01468785, ..., 0.00334242,\n",
       "         0.00437367, 0.00462664],\n",
       "        [0.01116091, 0.01468785, 0.        , ..., 0.00324862,\n",
       "         0.00427939, 0.00456625],\n",
       "        ...,\n",
       "        [0.00320898, 0.00334242, 0.00324862, ..., 0.        ,\n",
       "         0.02635478, 0.02542504],\n",
       "        [0.0041294 , 0.00437367, 0.00427939, ..., 0.02635478,\n",
       "         0.        , 0.0276194 ],\n",
       "        [0.00438208, 0.00462664, 0.00456625, ..., 0.02542504,\n",
       "         0.0276194 , 0.        ]],\n",
       "\n",
       "       [[0.        , 0.01693698, 0.01091914, ..., 0.00341175,\n",
       "         0.00452898, 0.0049939 ],\n",
       "        [0.01693698, 0.        , 0.01432385, ..., 0.00341617,\n",
       "         0.00459949, 0.00511048],\n",
       "        [0.01091914, 0.01432385, 0.        , ..., 0.00327777,\n",
       "         0.0043628 , 0.00496325],\n",
       "        ...,\n",
       "        [0.00341175, 0.00341617, 0.00327777, ..., 0.        ,\n",
       "         0.02409743, 0.02552681],\n",
       "        [0.00452898, 0.00459949, 0.0043628 , ..., 0.02409743,\n",
       "         0.        , 0.02861217],\n",
       "        [0.0049939 , 0.00511048, 0.00496325, ..., 0.02552681,\n",
       "         0.02861217, 0.        ]],\n",
       "\n",
       "       ...,\n",
       "\n",
       "       [[0.        , 0.03067888, 0.01974406, ..., 0.00519557,\n",
       "         0.00611152, 0.00749778],\n",
       "        [0.03067888, 0.        , 0.02523225, ..., 0.00479686,\n",
       "         0.00567278, 0.00691763],\n",
       "        [0.01974406, 0.02523225, 0.        , ..., 0.00458783,\n",
       "         0.00542666, 0.00663746],\n",
       "        ...,\n",
       "        [0.00519557, 0.00479686, 0.00458783, ..., 0.        ,\n",
       "         0.02861742, 0.02729587],\n",
       "        [0.00611152, 0.00567278, 0.00542666, ..., 0.02861742,\n",
       "         0.        , 0.02634726],\n",
       "        [0.00749778, 0.00691763, 0.00663746, ..., 0.02729587,\n",
       "         0.02634726, 0.        ]],\n",
       "\n",
       "       [[0.        , 0.0283198 , 0.02037387, ..., 0.00542314,\n",
       "         0.00644686, 0.00793697],\n",
       "        [0.0283198 , 0.        , 0.02472097, ..., 0.00498505,\n",
       "         0.00594672, 0.00728866],\n",
       "        [0.02037387, 0.02472097, 0.        , ..., 0.00488838,\n",
       "         0.005858  , 0.00726495],\n",
       "        ...,\n",
       "        [0.00542314, 0.00498505, 0.00488838, ..., 0.        ,\n",
       "         0.02741362, 0.02639209],\n",
       "        [0.00644686, 0.00594672, 0.005858  , ..., 0.02741362,\n",
       "         0.        , 0.02749099],\n",
       "        [0.00793697, 0.00728866, 0.00726495, ..., 0.02639209,\n",
       "         0.02749099, 0.        ]],\n",
       "\n",
       "       [[0.        , 0.02536832, 0.0184557 , ..., 0.00462806,\n",
       "         0.00535541, 0.00645886],\n",
       "        [0.02536832, 0.        , 0.0224613 , ..., 0.00441292,\n",
       "         0.00515697, 0.00626009],\n",
       "        [0.0184557 , 0.0224613 , 0.        , ..., 0.00430015,\n",
       "         0.00499509, 0.00611416],\n",
       "        ...,\n",
       "        [0.00462806, 0.00441292, 0.00430015, ..., 0.        ,\n",
       "         0.02623445, 0.02739845],\n",
       "        [0.00535541, 0.00515697, 0.00499509, ..., 0.02623445,\n",
       "         0.        , 0.02637593],\n",
       "        [0.00645886, 0.00626009, 0.00611416, ..., 0.02739845,\n",
       "         0.02637593, 0.        ]]])"
      ]
     },
     "execution_count": 8,
     "metadata": {},
     "output_type": "execute_result"
    }
   ],
   "source": [
    "etensor = [\n",
    "    LoadData(path + f\"WT/Rep1/elec_1-194/elec_{x}.npz\") for x in range(1, 1001)\n",
    "] + [\n",
    "    LoadData(path + f\"WT/Rep2/elec_1-194/elec_{x}.npz\") for x in range(1, 1001)\n",
    "] + [\n",
    "    LoadData(path + f\"WT/Rep3/elec_1-194/elec_{x}.npz\") for x in range(1, 1001)\n",
    "] + [\n",
    "    LoadData(path + f\"WT/Rep4/elec_1-194/elec_{x}.npz\") for x in range(1, 1001)\n",
    "]\n",
    "\n",
    "etensor = np.array(etensor) #etensor indexing: frame, row, column\n",
    "etensor"
   ]
  },
  {
   "cell_type": "code",
   "execution_count": 9,
   "id": "62dc4075",
   "metadata": {
    "colab": {
     "referenced_widgets": [
      "d9df7a1be0fd44adbe73420c95b2b744"
     ]
    },
    "id": "62dc4075",
    "outputId": "628d6286-00c8-4105-e3ef-2022b8f38772"
   },
   "outputs": [
    {
     "data": {
      "image/png": "[encoded data removed]",
      "text/plain": [
       "<Figure size 432x288 with 1 Axes>"
      ]
     },
     "metadata": {
      "needs_background": "light"
     },
     "output_type": "display_data"
    }
   ],
   "source": [
    "TestThresh(etensor, \"WT_DBD\", thresh = 0.005)"
   ]
  },
  {
   "cell_type": "markdown",
   "id": "neural-words",
   "metadata": {
    "id": "neural-words"
   },
   "source": [
    "### Creating thresholded and normalized matrices of the energy tensors:\n",
    "##### This is done to check where we might want to cut off values in our subsequent tensor generation"
   ]
  },
  {
   "cell_type": "markdown",
   "id": "cbde52dc",
   "metadata": {
    "id": "cbde52dc"
   },
   "source": [
    "### Determining Time and Thresh Parameters"
   ]
  },
  {
   "cell_type": "code",
   "execution_count": 10,
   "id": "99703da6",
   "metadata": {
    "id": "99703da6"
   },
   "outputs": [],
   "source": [
    "TIME = 5\n",
    "THRESH = 0.005\n",
    "numPCsToTest = 15\n",
    "\n",
    "kernel = KernelFromEnergyTensorThresh(etensor, THRESH, TIME)\n",
    "variance, pcs = MakePCA_DF(kernel, numPCsToTest, showVar = True)\n",
    "\n",
    "varianceDF = pd.DataFrame(variance)\n",
    "meanVariance = varianceDF.mean(axis = 0)"
   ]
  },
  {
   "cell_type": "code",
   "execution_count": 11,
   "id": "f8e53419",
   "metadata": {
    "colab": {
     "referenced_widgets": [
      "bb92e483f75a43b6a81110ac17547132"
     ]
    },
    "id": "f8e53419",
    "outputId": "d2651dc2-f2d0-4179-92f9-12325bc6e355"
   },
   "outputs": [
    {
     "name": "stdout",
     "output_type": "stream",
     "text": [
      "Elbow Eigenvalue: 4\n"
     ]
    },
    {
     "data": {
      "image/png": "[encoded data removed]",
      "text/plain": [
       "<Figure size 432x432 with 1 Axes>"
      ]
     },
     "metadata": {
      "needs_background": "light"
     },
     "output_type": "display_data"
    },
    {
     "data": {
      "image/png": "[encoded data removed]",
      "text/plain": [
       "<Figure size 432x432 with 1 Axes>"
      ]
     },
     "metadata": {
      "needs_background": "light"
     },
     "output_type": "display_data"
    }
   ],
   "source": [
    "kneedl= KneedLoc(range(1, numPCsToTest+1), meanVariance, S = 1, curve = \"convex\", direction = \"decreasing\")\n",
    "print(\"Elbow Eigenvalue:\", round(kneedl.elbow, 3))\n",
    "kneedl.plot_knee()\n",
    "ax = plt.gca()\n",
    "ax.set_xlabel(\"Number of PCs\")\n",
    "ax.set_ylabel(\"Eigenvalue\")\n",
    "plt.savefig(\"DBD_WT_PCA_Knee.png\", bbox_inches = \"tight\", dpi = 300)\n",
    "kneedl.plot_knee_normalized()\n",
    "plt.savefig(\"DBD_WT_PCA_KneeDiff.png\", bbox_inches = \"tight\", dpi = 300)"
   ]
  },
  {
   "cell_type": "code",
   "execution_count": 13,
   "id": "315b5a94",
   "metadata": {},
   "outputs": [
    {
     "data": {
      "text/html": [
       "<div>\n",
       "<style scoped>\n",
       "    .dataframe tbody tr th:only-of-type {\n",
       "        vertical-align: middle;\n",
       "    }\n",
       "\n",
       "    .dataframe tbody tr th {\n",
       "        vertical-align: top;\n",
       "    }\n",
       "\n",
       "    .dataframe thead th {\n",
       "        text-align: right;\n",
       "    }\n",
       "</style>\n",
       "<table border=\"1\" class=\"dataframe\">\n",
       "  <thead>\n",
       "    <tr style=\"text-align: right;\">\n",
       "      <th></th>\n",
       "      <th>0</th>\n",
       "      <th>1</th>\n",
       "      <th>2</th>\n",
       "      <th>3</th>\n",
       "    </tr>\n",
       "  </thead>\n",
       "  <tbody>\n",
       "    <tr>\n",
       "      <th>0</th>\n",
       "      <td>-0.009291</td>\n",
       "      <td>0.001629</td>\n",
       "      <td>0.003855</td>\n",
       "      <td>0.005597</td>\n",
       "    </tr>\n",
       "    <tr>\n",
       "      <th>1</th>\n",
       "      <td>-0.008700</td>\n",
       "      <td>0.001261</td>\n",
       "      <td>0.003955</td>\n",
       "      <td>0.006252</td>\n",
       "    </tr>\n",
       "    <tr>\n",
       "      <th>2</th>\n",
       "      <td>-0.008960</td>\n",
       "      <td>0.002615</td>\n",
       "      <td>0.003429</td>\n",
       "      <td>0.005988</td>\n",
       "    </tr>\n",
       "    <tr>\n",
       "      <th>3</th>\n",
       "      <td>-0.007279</td>\n",
       "      <td>0.003887</td>\n",
       "      <td>0.001675</td>\n",
       "      <td>0.006177</td>\n",
       "    </tr>\n",
       "    <tr>\n",
       "      <th>4</th>\n",
       "      <td>0.014424</td>\n",
       "      <td>0.002625</td>\n",
       "      <td>-0.001279</td>\n",
       "      <td>0.005423</td>\n",
       "    </tr>\n",
       "    <tr>\n",
       "      <th>...</th>\n",
       "      <td>...</td>\n",
       "      <td>...</td>\n",
       "      <td>...</td>\n",
       "      <td>...</td>\n",
       "    </tr>\n",
       "    <tr>\n",
       "      <th>189</th>\n",
       "      <td>0.001169</td>\n",
       "      <td>-0.009884</td>\n",
       "      <td>0.008678</td>\n",
       "      <td>-0.002327</td>\n",
       "    </tr>\n",
       "    <tr>\n",
       "      <th>190</th>\n",
       "      <td>-0.001920</td>\n",
       "      <td>-0.007035</td>\n",
       "      <td>0.010798</td>\n",
       "      <td>-0.001343</td>\n",
       "    </tr>\n",
       "    <tr>\n",
       "      <th>191</th>\n",
       "      <td>-0.009134</td>\n",
       "      <td>-0.007936</td>\n",
       "      <td>0.008822</td>\n",
       "      <td>-0.001636</td>\n",
       "    </tr>\n",
       "    <tr>\n",
       "      <th>192</th>\n",
       "      <td>-0.001089</td>\n",
       "      <td>-0.008708</td>\n",
       "      <td>0.008416</td>\n",
       "      <td>-0.002799</td>\n",
       "    </tr>\n",
       "    <tr>\n",
       "      <th>193</th>\n",
       "      <td>0.000388</td>\n",
       "      <td>-0.006477</td>\n",
       "      <td>0.009421</td>\n",
       "      <td>-0.002987</td>\n",
       "    </tr>\n",
       "  </tbody>\n",
       "</table>\n",
       "<p>776000 rows × 4 columns</p>\n",
       "</div>"
      ],
      "text/plain": [
       "            0         1         2         3\n",
       "0   -0.009291  0.001629  0.003855  0.005597\n",
       "1   -0.008700  0.001261  0.003955  0.006252\n",
       "2   -0.008960  0.002615  0.003429  0.005988\n",
       "3   -0.007279  0.003887  0.001675  0.006177\n",
       "4    0.014424  0.002625 -0.001279  0.005423\n",
       "..        ...       ...       ...       ...\n",
       "189  0.001169 -0.009884  0.008678 -0.002327\n",
       "190 -0.001920 -0.007035  0.010798 -0.001343\n",
       "191 -0.009134 -0.007936  0.008822 -0.001636\n",
       "192 -0.001089 -0.008708  0.008416 -0.002799\n",
       "193  0.000388 -0.006477  0.009421 -0.002987\n",
       "\n",
       "[776000 rows x 4 columns]"
      ]
     },
     "execution_count": 13,
     "metadata": {},
     "output_type": "execute_result"
    }
   ],
   "source": [
    "OPTIMAL_PCs = int(round(kneedl.elbow, 3))\n",
    "df = pcs[list(range(OPTIMAL_PCs))]\n",
    "df"
   ]
  },
  {
   "cell_type": "code",
   "execution_count": 22,
   "id": "ac8c9612",
   "metadata": {},
   "outputs": [
    {
     "data": {
      "text/html": [
       "<div>\n",
       "<style scoped>\n",
       "    .dataframe tbody tr th:only-of-type {\n",
       "        vertical-align: middle;\n",
       "    }\n",
       "\n",
       "    .dataframe tbody tr th {\n",
       "        vertical-align: top;\n",
       "    }\n",
       "\n",
       "    .dataframe thead th {\n",
       "        text-align: right;\n",
       "    }\n",
       "</style>\n",
       "<table border=\"1\" class=\"dataframe\">\n",
       "  <thead>\n",
       "    <tr style=\"text-align: right;\">\n",
       "      <th></th>\n",
       "      <th>0</th>\n",
       "      <th>1</th>\n",
       "      <th>2</th>\n",
       "      <th>3</th>\n",
       "      <th>heat</th>\n",
       "      <th>res</th>\n",
       "      <th>frame</th>\n",
       "    </tr>\n",
       "  </thead>\n",
       "  <tbody>\n",
       "    <tr>\n",
       "      <th>0</th>\n",
       "      <td>-0.009291</td>\n",
       "      <td>0.001629</td>\n",
       "      <td>0.003855</td>\n",
       "      <td>0.005597</td>\n",
       "      <td>0.011052</td>\n",
       "      <td>1</td>\n",
       "      <td>0</td>\n",
       "    </tr>\n",
       "    <tr>\n",
       "      <th>1</th>\n",
       "      <td>-0.008700</td>\n",
       "      <td>0.001261</td>\n",
       "      <td>0.003955</td>\n",
       "      <td>0.006252</td>\n",
       "      <td>0.011235</td>\n",
       "      <td>2</td>\n",
       "      <td>0</td>\n",
       "    </tr>\n",
       "    <tr>\n",
       "      <th>2</th>\n",
       "      <td>-0.008960</td>\n",
       "      <td>0.002615</td>\n",
       "      <td>0.003429</td>\n",
       "      <td>0.005988</td>\n",
       "      <td>0.011162</td>\n",
       "      <td>3</td>\n",
       "      <td>0</td>\n",
       "    </tr>\n",
       "    <tr>\n",
       "      <th>3</th>\n",
       "      <td>-0.007279</td>\n",
       "      <td>0.003887</td>\n",
       "      <td>0.001675</td>\n",
       "      <td>0.006177</td>\n",
       "      <td>0.011365</td>\n",
       "      <td>4</td>\n",
       "      <td>0</td>\n",
       "    </tr>\n",
       "    <tr>\n",
       "      <th>4</th>\n",
       "      <td>0.014424</td>\n",
       "      <td>0.002625</td>\n",
       "      <td>-0.001279</td>\n",
       "      <td>0.005423</td>\n",
       "      <td>0.014194</td>\n",
       "      <td>5</td>\n",
       "      <td>0</td>\n",
       "    </tr>\n",
       "    <tr>\n",
       "      <th>...</th>\n",
       "      <td>...</td>\n",
       "      <td>...</td>\n",
       "      <td>...</td>\n",
       "      <td>...</td>\n",
       "      <td>...</td>\n",
       "      <td>...</td>\n",
       "      <td>...</td>\n",
       "    </tr>\n",
       "    <tr>\n",
       "      <th>189</th>\n",
       "      <td>0.001169</td>\n",
       "      <td>-0.009884</td>\n",
       "      <td>0.008678</td>\n",
       "      <td>-0.002327</td>\n",
       "      <td>0.013171</td>\n",
       "      <td>190</td>\n",
       "      <td>3999</td>\n",
       "    </tr>\n",
       "    <tr>\n",
       "      <th>190</th>\n",
       "      <td>-0.001920</td>\n",
       "      <td>-0.007035</td>\n",
       "      <td>0.010798</td>\n",
       "      <td>-0.001343</td>\n",
       "      <td>0.012903</td>\n",
       "      <td>191</td>\n",
       "      <td>3999</td>\n",
       "    </tr>\n",
       "    <tr>\n",
       "      <th>191</th>\n",
       "      <td>-0.009134</td>\n",
       "      <td>-0.007936</td>\n",
       "      <td>0.008822</td>\n",
       "      <td>-0.001636</td>\n",
       "      <td>0.011825</td>\n",
       "      <td>192</td>\n",
       "      <td>3999</td>\n",
       "    </tr>\n",
       "    <tr>\n",
       "      <th>192</th>\n",
       "      <td>-0.001089</td>\n",
       "      <td>-0.008708</td>\n",
       "      <td>0.008416</td>\n",
       "      <td>-0.002799</td>\n",
       "      <td>0.012791</td>\n",
       "      <td>193</td>\n",
       "      <td>3999</td>\n",
       "    </tr>\n",
       "    <tr>\n",
       "      <th>193</th>\n",
       "      <td>0.000388</td>\n",
       "      <td>-0.006477</td>\n",
       "      <td>0.009421</td>\n",
       "      <td>-0.002987</td>\n",
       "      <td>0.013002</td>\n",
       "      <td>194</td>\n",
       "      <td>3999</td>\n",
       "    </tr>\n",
       "  </tbody>\n",
       "</table>\n",
       "<p>776000 rows × 7 columns</p>\n",
       "</div>"
      ],
      "text/plain": [
       "            0         1         2         3      heat  res  frame\n",
       "0   -0.009291  0.001629  0.003855  0.005597  0.011052    1      0\n",
       "1   -0.008700  0.001261  0.003955  0.006252  0.011235    2      0\n",
       "2   -0.008960  0.002615  0.003429  0.005988  0.011162    3      0\n",
       "3   -0.007279  0.003887  0.001675  0.006177  0.011365    4      0\n",
       "4    0.014424  0.002625 -0.001279  0.005423  0.014194    5      0\n",
       "..        ...       ...       ...       ...       ...  ...    ...\n",
       "189  0.001169 -0.009884  0.008678 -0.002327  0.013171  190   3999\n",
       "190 -0.001920 -0.007035  0.010798 -0.001343  0.012903  191   3999\n",
       "191 -0.009134 -0.007936  0.008822 -0.001636  0.011825  192   3999\n",
       "192 -0.001089 -0.008708  0.008416 -0.002799  0.012791  193   3999\n",
       "193  0.000388 -0.006477  0.009421 -0.002987  0.013002  194   3999\n",
       "\n",
       "[776000 rows x 7 columns]"
      ]
     },
     "execution_count": 22,
     "metadata": {},
     "output_type": "execute_result"
    }
   ],
   "source": [
    "pcsHeatRes = mapPCsToHeatRes(df, kernel)\n",
    "pcsHeatRes.to_csv(f\"/home/student5/Desktop/Energetics/Processed/DBD_WT_Long+Short_Elec_1-{NUM_RESIDUES}.csv\", index=False)\n",
    "pcsHeatRes"
   ]
  },
  {
   "cell_type": "markdown",
   "id": "cec14add",
   "metadata": {},
   "source": [
    "## Generate Heat Kernel PCA Data for All Other Constructs Using Above Values"
   ]
  },
  {
   "cell_type": "code",
   "execution_count": null,
   "id": "b11157fd",
   "metadata": {},
   "outputs": [],
   "source": [
    "for construct in [\"WT_PK11000\", \"Y220C\", \"Y220C_PK11000\"]:\n",
    "    etensor = [\n",
    "        LoadData(path + f\"{construct}/Rep1/elec_1-194/elec_{x}.npz\") for x in range(1, 1001)\n",
    "    ] + [\n",
    "        LoadData(path + f\"{construct}/Rep2/elec_1-194/elec_{x}.npz\") for x in range(1, 1001)\n",
    "    ] + [\n",
    "        LoadData(path + f\"{construct}/Rep3/elec_1-194/elec_{x}.npz\") for x in range(1, 1001)\n",
    "    ] + [\n",
    "        LoadData(path + f\"{construct}/Rep4/elec_1-194/elec_{x}.npz\") for x in range(1, 1001)\n",
    "    ]\n",
    "\n",
    "    etensor = np.array(etensor) #etensor indexing: frame, row, column\n",
    "\n",
    "    kernel = KernelFromEnergyTensorThresh(etensor, THRESH, TIME)\n",
    "    _, pcs = MakePCA_DF(kernel, OPTIMAL_PCs, showVar = True)\n",
    "\n",
    "    pcsHeatRes = mapPCsToHeatRes(pcs, kernel)\n",
    "    pcsHeatRes.to_csv(f\"/home/student5/Desktop/Energetics/Processed/DBD_{construct}_Long+Short_Elec_1-{NUM_RESIDUES}.csv\", index=False)"
   ]
  }
 ],
 "metadata": {
  "colab": {
   "provenance": []
  },
  "kernelspec": {
   "display_name": "AmberTools23",
   "language": "python",
   "name": "ambertools23"
  },
  "language_info": {
   "codemirror_mode": {
    "name": "ipython",
    "version": 3
   },
   "file_extension": ".py",
   "mimetype": "text/x-python",
   "name": "python",
   "nbconvert_exporter": "python",
   "pygments_lexer": "ipython3",
   "version": "3.11.4"
  }
 },
 "nbformat": 4,
 "nbformat_minor": 5
}
