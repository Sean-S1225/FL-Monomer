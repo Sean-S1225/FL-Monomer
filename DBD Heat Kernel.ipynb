{
 "cells": [
  {
   "cell_type": "code",
   "execution_count": 63,
   "id": "extreme-psychology",
   "metadata": {
    "id": "extreme-psychology"
   },
   "outputs": [],
   "source": [
    "import pytraj as pt\n",
    "import parmed as pmd\n",
    "import numpy as np\n",
    "import pandas as pd\n",
    "import matplotlib.pyplot as plt\n",
    "import torch\n",
    "import networkx as nx\n",
    "import scipy\n",
    "import pickle as pkl\n",
    "from tqdm.notebook import tqdm\n",
    "import plotly.express as px\n",
    "from plotly.subplots import make_subplots\n",
    "import plotly.graph_objects as go\n",
    "from scipy import exp\n",
    "from kneed import KneeLocator as KneedLoc"
   ]
  },
  {
   "cell_type": "code",
   "execution_count": 64,
   "id": "introductory-leader",
   "metadata": {
    "id": "introductory-leader"
   },
   "outputs": [],
   "source": [
    "# %matplotlib widget"
   ]
  },
  {
   "cell_type": "code",
   "execution_count": 65,
   "id": "da2cb34b",
   "metadata": {},
   "outputs": [],
   "source": [
    "plt.rcParams['font.family'] = 'Helvetica'"
   ]
  },
  {
   "cell_type": "markdown",
   "id": "featured-incentive",
   "metadata": {
    "id": "featured-incentive"
   },
   "source": [
    "<h1> Graph Normalization and Thresholding </h1>"
   ]
  },
  {
   "cell_type": "code",
   "execution_count": 66,
   "id": "foreign-singles",
   "metadata": {
    "id": "foreign-singles"
   },
   "outputs": [],
   "source": [
    "def compute_normalized_graph(matrix):\n",
    "    row_sums = matrix.sum(axis=1)\n",
    "    size = matrix.shape[0]\n",
    "    new_matrix = np.zeros((size,size))\n",
    "    for x,row in enumerate(matrix):\n",
    "        #for every column's row\n",
    "        for y, val in enumerate(row):\n",
    "            #for every value in row\n",
    "            current = val / row_sums[x] if row_sums[x] != 0 else 0\n",
    "            new_matrix[x,y] = max([current,new_matrix[y,x]])\n",
    "            new_matrix[y,x] = max([current,new_matrix[x,y]])\n",
    "\n",
    "    return new_matrix"
   ]
  },
  {
   "cell_type": "code",
   "execution_count": 67,
   "id": "frank-cornwall",
   "metadata": {
    "id": "frank-cornwall"
   },
   "outputs": [],
   "source": [
    "def threshold_normalized_graph(matrix, cutoff):\n",
    "    size = matrix.shape[0]\n",
    "    new_matrix = np.zeros((size,size))\n",
    "    for x,row in enumerate(matrix):\n",
    "        for y, val in enumerate(row):\n",
    "            new_matrix[x,y] = 1 if matrix[x,y] > cutoff else 0\n",
    "\n",
    "    return new_matrix"
   ]
  },
  {
   "cell_type": "markdown",
   "id": "empty-might",
   "metadata": {
    "id": "empty-might"
   },
   "source": [
    "<h1> Pairwise Energy Tensor Analysis </h1>"
   ]
  },
  {
   "cell_type": "code",
   "execution_count": 68,
   "id": "vital-heater",
   "metadata": {
    "id": "vital-heater"
   },
   "outputs": [],
   "source": [
    "def thresh_and_norm_matrix(tensor,channel,threshold):\n",
    "    #same function as above, just quicker to access here outside of the tensor class\n",
    "    '''\n",
    "    channel (int): the energy channel to compute for\n",
    "    threshold (float): the cutoff value\n",
    "\n",
    "    returns : (numpy.ndarray) matrix of matrices summed over common edges, normalized,\n",
    "    and thresholded\n",
    "    '''\n",
    "    energy_tensor = torch.Tensor(tensor[:,channel])\n",
    "    sum_matrix = torch.sum(energy_tensor, dim=0).numpy()\n",
    "    normalized = compute_normalized_graph(sum_matrix)\n",
    "    #thresholded is binary\n",
    "    thresholded = threshold_normalized_graph(normalized,threshold)\n",
    "    weighted_threshold = thresholded * normalized\n",
    "    return (thresholded,weighted_threshold)"
   ]
  },
  {
   "cell_type": "markdown",
   "id": "overhead-surveillance",
   "metadata": {
    "id": "overhead-surveillance"
   },
   "source": [
    "<h1> Heat Kernel Analysis:</h1>"
   ]
  },
  {
   "cell_type": "markdown",
   "id": "later-snake",
   "metadata": {
    "id": "later-snake"
   },
   "source": [
    "### Heat Kernel PCA (See: https://link.springer.com/chapter/10.1007/11815921_18)"
   ]
  },
  {
   "cell_type": "code",
   "execution_count": 69,
   "id": "sustained-devon",
   "metadata": {
    "id": "sustained-devon"
   },
   "outputs": [],
   "source": [
    "def matrix_exponentiation(eigenvectors,eigenvalues,t):\n",
    "    '''\n",
    "    Raise e^matrix where matrix is a square\n",
    "    '''\n",
    "    shape = eigenvectors.shape[0]\n",
    "    processed_eigenvalues = np.exp(-t*eigenvalues)\n",
    "    e_diagonal = np.diag(processed_eigenvalues)\n",
    "    return eigenvectors.dot(e_diagonal).dot(eigenvectors.transpose())\n",
    "\n",
    "def get_heat_kernel(matrix,t):\n",
    "    laplacian = scipy.sparse.csgraph.laplacian(matrix,normed=True)\n",
    "    (eigenvalues,eigenvectors) = np.linalg.eigh(laplacian)\n",
    "    x = matrix_exponentiation(eigenvectors,eigenvalues,t)\n",
    "    x = np.round(x, decimals = 6)\n",
    "    return x\n",
    "\n",
    "def kernel_from_energy_tensor_thresh(tensor,threshold,time):\n",
    "    kernels = np.zeros((tensor.shape[0], tensor.shape[2], tensor.shape[2]))\n",
    "    for i, matrix in enumerate(tensor):\n",
    "        normalized = compute_normalized_graph(matrix)\n",
    "        thresholded = threshold_normalized_graph(normalized,threshold)\n",
    "        final_mat = thresholded * normalized\n",
    "        kernel = get_heat_kernel(final_mat, time)\n",
    "        kernels[i] = kernel\n",
    "\n",
    "    return kernels"
   ]
  },
  {
   "cell_type": "code",
   "execution_count": 70,
   "id": "organized-hurricane",
   "metadata": {
    "id": "organized-hurricane"
   },
   "outputs": [],
   "source": [
    "from sklearn.decomposition import PCA\n",
    "\n",
    "def get_pca(kernel,dim):\n",
    "    pca = PCA(n_components=dim)\n",
    "    pca.fit(kernel)\n",
    "    transformed = pca.transform(kernel)\n",
    "    return (transformed, pca.explained_variance_)"
   ]
  },
  {
   "cell_type": "code",
   "execution_count": 71,
   "id": "future-pledge",
   "metadata": {
    "id": "future-pledge"
   },
   "outputs": [],
   "source": [
    "def make_shared_pca_df(kernels, num_components, show_var=False):\n",
    "    dfs = []\n",
    "    eigens=[]\n",
    "    for kernel in kernels:\n",
    "        (pcs, var) = get_pca(kernel, num_components)\n",
    "        df = pd.DataFrame(pcs)\n",
    "        dfs.append(df)\n",
    "        if show_var:\n",
    "            eigens+=[var]\n",
    "\n",
    "    return (eigens, pd.concat(dfs))"
   ]
  },
  {
   "cell_type": "markdown",
   "id": "violent-tutorial",
   "metadata": {
    "id": "violent-tutorial"
   },
   "source": [
    "# Energy Tensors:"
   ]
  },
  {
   "cell_type": "code",
   "execution_count": 72,
   "id": "1944c677",
   "metadata": {
    "id": "1944c677"
   },
   "outputs": [],
   "source": [
    "#etensor indexing: frame, row, column"
   ]
  },
  {
   "cell_type": "code",
   "execution_count": 73,
   "id": "77c4e74d",
   "metadata": {},
   "outputs": [],
   "source": [
    "def LoadData(file):\n",
    "    toReturn = []\n",
    "    with np.load(file) as data:\n",
    "        lst = data.files\n",
    "        for item in lst:\n",
    "            toReturn.append(data[item])\n",
    "    if len(toReturn) > 1: raise ValueError(f\"file has length {len(toReturn)}\")\n",
    "    return toReturn[0]"
   ]
  },
  {
   "cell_type": "code",
   "execution_count": 74,
   "id": "polar-words",
   "metadata": {
    "id": "polar-words",
    "scrolled": true
   },
   "outputs": [
    {
     "data": {
      "text/plain": [
       "array([[[0.        , 0.01941373, 0.01205954, ..., 0.0038218 ,\n",
       "         0.00498352, 0.00538636],\n",
       "        [0.01941373, 0.        , 0.0165852 , ..., 0.00366992,\n",
       "         0.00484092, 0.00522209],\n",
       "        [0.01205954, 0.0165852 , 0.        , ..., 0.00342556,\n",
       "         0.00449098, 0.00490984],\n",
       "        ...,\n",
       "        [0.0038218 , 0.00366992, 0.00342556, ..., 0.        ,\n",
       "         0.02678466, 0.0283807 ],\n",
       "        [0.00498352, 0.00484092, 0.00449098, ..., 0.02678466,\n",
       "         0.        , 0.02640505],\n",
       "        [0.00538636, 0.00522209, 0.00490984, ..., 0.0283807 ,\n",
       "         0.02640505, 0.        ]],\n",
       "\n",
       "       [[0.        , 0.01698401, 0.01116091, ..., 0.00320898,\n",
       "         0.0041294 , 0.00438208],\n",
       "        [0.01698401, 0.        , 0.01468785, ..., 0.00334242,\n",
       "         0.00437367, 0.00462664],\n",
       "        [0.01116091, 0.01468785, 0.        , ..., 0.00324862,\n",
       "         0.00427939, 0.00456625],\n",
       "        ...,\n",
       "        [0.00320898, 0.00334242, 0.00324862, ..., 0.        ,\n",
       "         0.02635478, 0.02542504],\n",
       "        [0.0041294 , 0.00437367, 0.00427939, ..., 0.02635478,\n",
       "         0.        , 0.0276194 ],\n",
       "        [0.00438208, 0.00462664, 0.00456625, ..., 0.02542504,\n",
       "         0.0276194 , 0.        ]],\n",
       "\n",
       "       [[0.        , 0.01693698, 0.01091914, ..., 0.00341175,\n",
       "         0.00452898, 0.0049939 ],\n",
       "        [0.01693698, 0.        , 0.01432385, ..., 0.00341617,\n",
       "         0.00459949, 0.00511048],\n",
       "        [0.01091914, 0.01432385, 0.        , ..., 0.00327777,\n",
       "         0.0043628 , 0.00496325],\n",
       "        ...,\n",
       "        [0.00341175, 0.00341617, 0.00327777, ..., 0.        ,\n",
       "         0.02409743, 0.02552681],\n",
       "        [0.00452898, 0.00459949, 0.0043628 , ..., 0.02409743,\n",
       "         0.        , 0.02861217],\n",
       "        [0.0049939 , 0.00511048, 0.00496325, ..., 0.02552681,\n",
       "         0.02861217, 0.        ]],\n",
       "\n",
       "       ...,\n",
       "\n",
       "       [[0.        , 0.03067888, 0.01974406, ..., 0.00519557,\n",
       "         0.00611152, 0.00749778],\n",
       "        [0.03067888, 0.        , 0.02523225, ..., 0.00479686,\n",
       "         0.00567278, 0.00691763],\n",
       "        [0.01974406, 0.02523225, 0.        , ..., 0.00458783,\n",
       "         0.00542666, 0.00663746],\n",
       "        ...,\n",
       "        [0.00519557, 0.00479686, 0.00458783, ..., 0.        ,\n",
       "         0.02861742, 0.02729587],\n",
       "        [0.00611152, 0.00567278, 0.00542666, ..., 0.02861742,\n",
       "         0.        , 0.02634726],\n",
       "        [0.00749778, 0.00691763, 0.00663746, ..., 0.02729587,\n",
       "         0.02634726, 0.        ]],\n",
       "\n",
       "       [[0.        , 0.0283198 , 0.02037387, ..., 0.00542314,\n",
       "         0.00644686, 0.00793697],\n",
       "        [0.0283198 , 0.        , 0.02472097, ..., 0.00498505,\n",
       "         0.00594672, 0.00728866],\n",
       "        [0.02037387, 0.02472097, 0.        , ..., 0.00488838,\n",
       "         0.005858  , 0.00726495],\n",
       "        ...,\n",
       "        [0.00542314, 0.00498505, 0.00488838, ..., 0.        ,\n",
       "         0.02741362, 0.02639209],\n",
       "        [0.00644686, 0.00594672, 0.005858  , ..., 0.02741362,\n",
       "         0.        , 0.02749099],\n",
       "        [0.00793697, 0.00728866, 0.00726495, ..., 0.02639209,\n",
       "         0.02749099, 0.        ]],\n",
       "\n",
       "       [[0.        , 0.02536832, 0.0184557 , ..., 0.00462806,\n",
       "         0.00535541, 0.00645886],\n",
       "        [0.02536832, 0.        , 0.0224613 , ..., 0.00441292,\n",
       "         0.00515697, 0.00626009],\n",
       "        [0.0184557 , 0.0224613 , 0.        , ..., 0.00430015,\n",
       "         0.00499509, 0.00611416],\n",
       "        ...,\n",
       "        [0.00462806, 0.00441292, 0.00430015, ..., 0.        ,\n",
       "         0.02623445, 0.02739845],\n",
       "        [0.00535541, 0.00515697, 0.00499509, ..., 0.02623445,\n",
       "         0.        , 0.02637593],\n",
       "        [0.00645886, 0.00626009, 0.00611416, ..., 0.02739845,\n",
       "         0.02637593, 0.        ]]])"
      ]
     },
     "execution_count": 74,
     "metadata": {},
     "output_type": "execute_result"
    }
   ],
   "source": [
    "# wt_etensor=np.load('/home/student5/Desktop/Energetics/elec_1.npz')\n",
    "# for x in wt_etensor:\n",
    "#     print(x)\n",
    "\n",
    "path = \"/home/student5/Desktop/Energetics/zfshomes/sstetson/End_Fall23-Pres/Analysis/DBD/ff14SB/Energetics/\"\n",
    "\n",
    "wt_etensor = [\n",
    "    LoadData(path + f\"WT/Rep1/1-200/normal/elec_1-194/elec_{x}.npz\") for x in range(1, 201)\n",
    "] + [\n",
    "    LoadData(path + f\"WT/Rep1/201-400/normal/elec_1-194/elec_{x}.npz\") for x in range(201, 401)\n",
    "] + [\n",
    "    LoadData(path + f\"WT/Rep1/401-600/normal/elec_1-194/elec_{x}.npz\") for x in range(401, 601)\n",
    "] + [\n",
    "    LoadData(path + f\"WT/Rep1/601-800/normal/elec_1-194/elec_{x}.npz\") for x in range(601, 801)\n",
    "] + [\n",
    "    LoadData(path + f\"WT/Rep1/801-1000/normal/elec_1-194/elec_{x}.npz\") for x in range(801, 1001)\n",
    "] + [\n",
    "    LoadData(path + f\"WT/Rep2/1-200/normal/elec_1-194/elec_{x}.npz\") for x in range(1, 201)\n",
    "] + [\n",
    "    LoadData(path + f\"WT/Rep2/201-400/normal/elec_1-194/elec_{x}.npz\") for x in range(201, 401)\n",
    "] + [\n",
    "    LoadData(path + f\"WT/Rep2/401-600/normal/elec_1-194/elec_{x}.npz\") for x in range(401, 601)\n",
    "] + [\n",
    "    LoadData(path + f\"WT/Rep2/601-800/normal/elec_1-194/elec_{x}.npz\") for x in range(601, 801)\n",
    "] + [\n",
    "    LoadData(path + f\"WT/Rep2/801-1000/normal/elec_1-194/elec_{x}.npz\") for x in range(801, 1001)\n",
    "] + [\n",
    "    LoadData(path + f\"WT/Rep3/1-200/normal/elec_1-194/elec_{x}.npz\") for x in range(1, 201)\n",
    "] + [\n",
    "    LoadData(path + f\"WT/Rep3/201-400/normal/elec_1-194/elec_{x}.npz\") for x in range(201, 401)\n",
    "] + [\n",
    "    LoadData(path + f\"WT/Rep3/401-600/normal/elec_1-194/elec_{x}.npz\") for x in range(401, 601)\n",
    "] + [\n",
    "    LoadData(path + f\"WT/Rep3/601-800/normal/elec_1-194/elec_{x}.npz\") for x in range(601, 801)\n",
    "] + [\n",
    "    LoadData(path + f\"WT/Rep3/801-1000/normal/elec_1-194/elec_{x}.npz\") for x in range(801, 1001)\n",
    "] + [\n",
    "    LoadData(path + f\"WT/Rep4/1-200/normal/elec_1-194/elec_{x}.npz\") for x in range(1, 201)\n",
    "] + [\n",
    "    LoadData(path + f\"WT/Rep4/201-400/normal/elec_1-194/elec_{x}.npz\") for x in range(201, 401)\n",
    "] + [\n",
    "    LoadData(path + f\"WT/Rep4/401-600/normal/elec_1-194/elec_{x}.npz\") for x in range(401, 601)\n",
    "] + [\n",
    "    LoadData(path + f\"WT/Rep4/601-800/normal/elec_1-194/elec_{x}.npz\") for x in range(601, 801)\n",
    "] + [\n",
    "    LoadData(path + f\"WT/Rep4/801-1000/normal/elec_1-194/elec_{x}.npz\") for x in range(801, 1001)\n",
    "]\n",
    "\n",
    "wt_etensor = np.array(wt_etensor)\n",
    "wt_etensor"
   ]
  },
  {
   "cell_type": "markdown",
   "id": "neural-words",
   "metadata": {
    "id": "neural-words"
   },
   "source": [
    "### creating thresholded and normalized matrices of the energy tensors:\n",
    "##### this is done to check where we might want to cut off values in our subsequent tensor generation"
   ]
  },
  {
   "cell_type": "code",
   "execution_count": 75,
   "id": "ebaf0508",
   "metadata": {},
   "outputs": [],
   "source": [
    "def thresh_check(data, bins=50, thresh=None):\n",
    "    fig,ax=plt.subplots(layout=\"constrained\")\n",
    "    x = ax.hist(data.flatten(), bins=bins)\n",
    "    ax.set_xlabel(\"Normalized Edge Weight Value\")\n",
    "    ax.set_ylabel(\"Number of Edges\")\n",
    "    if thresh: ax.vlines([thresh], 0, 1, colors=\"red\", linestyles=\"-\", transform=ax.get_xaxis_transform())\n",
    "    fig.suptitle(f\"WT DBD Distribution of Edge Weight: Thresh={thresh}\")\n",
    "    plt.savefig(\"WT_DBD_EdgeWeightDist.png\", bbox_inches=\"tight\", dpi=300, transparent=False, facecolor=\"white\")\n",
    "    \n",
    "    return x"
   ]
  },
  {
   "cell_type": "code",
   "execution_count": 76,
   "id": "62dc4075",
   "metadata": {
    "colab": {
     "referenced_widgets": [
      "d9df7a1be0fd44adbe73420c95b2b744"
     ]
    },
    "id": "62dc4075",
    "outputId": "628d6286-00c8-4105-e3ef-2022b8f38772"
   },
   "outputs": [
    {
     "data": {
      "text/plain": [
       "(array([1.55200e+04, 4.76580e+04, 2.61534e+05, ..., 0.00000e+00,\n",
       "        0.00000e+00, 4.00000e+00]),\n",
       " array([0.        , 0.00102699, 0.00205397, ..., 0.0492953 , 0.05032229,\n",
       "        0.05134927]),\n",
       " <BarContainer object of 50 artists>)"
      ]
     },
     "execution_count": 76,
     "metadata": {},
     "output_type": "execute_result"
    },
    {
     "data": {
      "image/png": "[encoded data removed]",
      "text/plain": [
       "<Figure size 432x288 with 1 Axes>"
      ]
     },
     "metadata": {
      "needs_background": "light"
     },
     "output_type": "display_data"
    }
   ],
   "source": [
    "thresh_check(wt_etensor[::50], thresh=0.003, bins=50)"
   ]
  },
  {
   "cell_type": "markdown",
   "id": "cbde52dc",
   "metadata": {
    "id": "cbde52dc"
   },
   "source": [
    "### Determining Time and Thresh Parameters"
   ]
  },
  {
   "cell_type": "code",
   "execution_count": 92,
   "id": "99703da6",
   "metadata": {
    "id": "99703da6"
   },
   "outputs": [],
   "source": [
    "time = 5\n",
    "thresh = 0.003\n",
    "num_of_pcs = 10\n",
    "etensor = wt_etensor\n",
    "\n",
    "kernel = kernel_from_energy_tensor_thresh(etensor,thresh,time)\n",
    "eigens, pcs = make_shared_pca_df(kernel,num_of_pcs,show_var=True)\n",
    "\n",
    "eigens_df = pd.DataFrame(eigens)\n",
    "mean_n_eigens = eigens_df.mean(axis=0)"
   ]
  },
  {
   "cell_type": "code",
   "execution_count": 93,
   "id": "f8e53419",
   "metadata": {
    "colab": {
     "referenced_widgets": [
      "bb92e483f75a43b6a81110ac17547132"
     ]
    },
    "id": "f8e53419",
    "outputId": "d2651dc2-f2d0-4179-92f9-12325bc6e355"
   },
   "outputs": [
    {
     "name": "stdout",
     "output_type": "stream",
     "text": [
      "Elbow Eigenvalue: 3\n"
     ]
    },
    {
     "name": "stderr",
     "output_type": "stream",
     "text": [
      "/tmp/ipykernel_96128/3156764766.py:4: UserWarning: Glyph 8722 (\\N{MINUS SIGN}) missing from current font.\n",
      "  plt.savefig(\"WT_PCA_Knee.png\", bbox_inches=\"tight\", dpi=300)\n",
      "/home/student5/anaconda3/envs/AmberTools23/lib/python3.11/site-packages/IPython/core/pylabtools.py:152: UserWarning: Glyph 8722 (\\N{MINUS SIGN}) missing from current font.\n",
      "  fig.canvas.print_figure(bytes_io, **kw)\n"
     ]
    },
    {
     "data": {
      "image/png": "[encoded data removed]",
      "text/plain": [
       "<Figure size 432x432 with 1 Axes>"
      ]
     },
     "metadata": {
      "needs_background": "light"
     },
     "output_type": "display_data"
    }
   ],
   "source": [
    "kneedl= KneedLoc(range(1,num_of_pcs+1), mean_n_eigens, S=1, curve=\"convex\", direction=\"decreasing\")\n",
    "print('Elbow Eigenvalue:', round(kneedl.elbow,3))\n",
    "kneedl.plot_knee()\n",
    "plt.savefig(\"WT_PCA_Knee.png\", bbox_inches=\"tight\", dpi=300)"
   ]
  },
  {
   "cell_type": "code",
   "execution_count": 94,
   "id": "9efd7c1d",
   "metadata": {
    "colab": {
     "referenced_widgets": [
      "f3136863a0c5410b853e2112535ff37e"
     ]
    },
    "id": "9efd7c1d",
    "outputId": "8580d814-bf0b-415d-8a9d-f2a5e9bc64ea"
   },
   "outputs": [
    {
     "data": {
      "image/png": "[encoded data removed]",
      "text/plain": [
       "<Figure size 432x432 with 1 Axes>"
      ]
     },
     "metadata": {
      "needs_background": "light"
     },
     "output_type": "display_data"
    }
   ],
   "source": [
    "kneedl.plot_knee_normalized()"
   ]
  },
  {
   "cell_type": "markdown",
   "id": "funded-arrow",
   "metadata": {
    "id": "funded-arrow"
   },
   "source": [
    "## PCA Embedding Heat Kernels:"
   ]
  },
  {
   "cell_type": "code",
   "execution_count": 95,
   "id": "potential-prototype",
   "metadata": {
    "id": "potential-prototype"
   },
   "outputs": [],
   "source": [
    "#getting the principle components from the heatkernel\n",
    "#changed the last argument to 2 and it changed stuff. Ask Dylan how many \"components\" I should be doing (2 or 3)? We want 3 typically\n",
    "(_,wt_pcs) = make_shared_pca_df(kernel,3)"
   ]
  },
  {
   "cell_type": "code",
   "execution_count": 96,
   "id": "4db50361",
   "metadata": {},
   "outputs": [
    {
     "data": {
      "text/html": [
       "<div>\n",
       "<style scoped>\n",
       "    .dataframe tbody tr th:only-of-type {\n",
       "        vertical-align: middle;\n",
       "    }\n",
       "\n",
       "    .dataframe tbody tr th {\n",
       "        vertical-align: top;\n",
       "    }\n",
       "\n",
       "    .dataframe thead th {\n",
       "        text-align: right;\n",
       "    }\n",
       "</style>\n",
       "<table border=\"1\" class=\"dataframe\">\n",
       "  <thead>\n",
       "    <tr style=\"text-align: right;\">\n",
       "      <th></th>\n",
       "      <th>0</th>\n",
       "      <th>1</th>\n",
       "      <th>2</th>\n",
       "    </tr>\n",
       "  </thead>\n",
       "  <tbody>\n",
       "    <tr>\n",
       "      <th>0</th>\n",
       "      <td>-0.004639</td>\n",
       "      <td>0.001099</td>\n",
       "      <td>-0.001663</td>\n",
       "    </tr>\n",
       "    <tr>\n",
       "      <th>1</th>\n",
       "      <td>-0.004528</td>\n",
       "      <td>0.001039</td>\n",
       "      <td>-0.001674</td>\n",
       "    </tr>\n",
       "    <tr>\n",
       "      <th>2</th>\n",
       "      <td>-0.005332</td>\n",
       "      <td>0.001374</td>\n",
       "      <td>-0.001463</td>\n",
       "    </tr>\n",
       "    <tr>\n",
       "      <th>3</th>\n",
       "      <td>-0.004492</td>\n",
       "      <td>0.002260</td>\n",
       "      <td>-0.000620</td>\n",
       "    </tr>\n",
       "    <tr>\n",
       "      <th>4</th>\n",
       "      <td>0.005237</td>\n",
       "      <td>0.000712</td>\n",
       "      <td>0.000008</td>\n",
       "    </tr>\n",
       "    <tr>\n",
       "      <th>...</th>\n",
       "      <td>...</td>\n",
       "      <td>...</td>\n",
       "      <td>...</td>\n",
       "    </tr>\n",
       "    <tr>\n",
       "      <th>189</th>\n",
       "      <td>0.000780</td>\n",
       "      <td>-0.002297</td>\n",
       "      <td>0.002803</td>\n",
       "    </tr>\n",
       "    <tr>\n",
       "      <th>190</th>\n",
       "      <td>-0.000584</td>\n",
       "      <td>-0.001811</td>\n",
       "      <td>0.003635</td>\n",
       "    </tr>\n",
       "    <tr>\n",
       "      <th>191</th>\n",
       "      <td>-0.003703</td>\n",
       "      <td>-0.002284</td>\n",
       "      <td>0.003142</td>\n",
       "    </tr>\n",
       "    <tr>\n",
       "      <th>192</th>\n",
       "      <td>0.000370</td>\n",
       "      <td>-0.001914</td>\n",
       "      <td>0.002474</td>\n",
       "    </tr>\n",
       "    <tr>\n",
       "      <th>193</th>\n",
       "      <td>0.001642</td>\n",
       "      <td>-0.001131</td>\n",
       "      <td>0.002644</td>\n",
       "    </tr>\n",
       "  </tbody>\n",
       "</table>\n",
       "<p>776000 rows × 3 columns</p>\n",
       "</div>"
      ],
      "text/plain": [
       "            0         1         2\n",
       "0   -0.004639  0.001099 -0.001663\n",
       "1   -0.004528  0.001039 -0.001674\n",
       "2   -0.005332  0.001374 -0.001463\n",
       "3   -0.004492  0.002260 -0.000620\n",
       "4    0.005237  0.000712  0.000008\n",
       "..        ...       ...       ...\n",
       "189  0.000780 -0.002297  0.002803\n",
       "190 -0.000584 -0.001811  0.003635\n",
       "191 -0.003703 -0.002284  0.003142\n",
       "192  0.000370 -0.001914  0.002474\n",
       "193  0.001642 -0.001131  0.002644\n",
       "\n",
       "[776000 rows x 3 columns]"
      ]
     },
     "execution_count": 96,
     "metadata": {},
     "output_type": "execute_result"
    }
   ],
   "source": [
    "wt_pcs"
   ]
  },
  {
   "cell_type": "markdown",
   "id": "focused-delight",
   "metadata": {
    "id": "focused-delight"
   },
   "source": [
    "## System Heat Kernel Shared PCA Plots"
   ]
  },
  {
   "cell_type": "code",
   "execution_count": 97,
   "id": "binary-wisconsin",
   "metadata": {
    "id": "binary-wisconsin"
   },
   "outputs": [],
   "source": [
    "#assigns res number to each pcs embedding\n",
    "def embedded_res_assign(frame_tot,res_tot,df):\n",
    "    lst=np.zeros(frame_tot*res_tot)\n",
    "    n=res_tot\n",
    "    res_idx=[]\n",
    "    i=1\n",
    "    res=1\n",
    "    while i<=len(lst):\n",
    "        if res>res_tot:\n",
    "            res=1\n",
    "            res_idx.append(res)\n",
    "        else:\n",
    "            res_idx.append(res)\n",
    "        res+=1\n",
    "        i+=1\n",
    "    df['res'] =res_idx\n",
    "    return df\n",
    "\n",
    "def embedded_frame_assign(frame_tot,res_tot,df):\n",
    "    lst=np.zeros(frame_tot*res_tot)\n",
    "    n=res_tot\n",
    "    frame_idx=[]\n",
    "    i=1\n",
    "    frame=0\n",
    "    while i<=len(lst):\n",
    "        if (i)%n==0:\n",
    "            frame_idx.append(frame)\n",
    "            frame+=1\n",
    "        else:\n",
    "            frame_idx.append(frame)\n",
    "        i+=1\n",
    "    df['frame'] =frame_idx\n",
    "    return df\n",
    "\n",
    "\n",
    "def heat_map(kernel,pcs):\n",
    "    diag_els=[]\n",
    "    for matrix in kernel[:]:\n",
    "        diag_element=np.diag(matrix)\n",
    "        diag_els+=[diag_element]\n",
    "    diag_flat=np.concatenate(diag_els)\n",
    "    #set the column called 'heat' to the flattened diagonal matrix consisting of the diagonal elements of the kernel\n",
    "    pcs['heat'] =diag_flat\n",
    "    return pcs\n",
    "\n",
    "#range_color1=[0.0112,0.0134]\n",
    "range_color1=[]\n",
    "xrng=[-0.013, 0.024]\n",
    "yrng=[-0.013, 0.015]\n",
    "def heat_map_plot(kernel,pcs,pc_b,title_name):\n",
    "    heat_pcs=heat_map(kernel,pcs)\n",
    "    heat_pcs_res0=embedded_res_assign(100,199,heat_pcs)\n",
    "    heat_pcs_res=embedded_frame_assign(100,199,heat_pcs)\n",
    "    fig=px.scatter(heat_pcs_res, x= 0, y= pc_b, color=\"heat\",range_color=range_color1,hover_data=[\"heat\",\"res\",\"frame\"], labels={ \"0\": \"PC1\",\"2\": \"PC3\"},title=title_name)\n",
    "    fig.update_layout(title_x=0.5)\n",
    "    fig.update_layout(title_yanchor=\"top\")\n",
    "    fig.update_traces(marker=dict(size=10))\n",
    "    fig.update_xaxes(range=xrng)\n",
    "    fig.update_yaxes(range=yrng)\n",
    "    fig.update_layout(font=dict(\n",
    "        family=\"Arial\",\n",
    "        size=16))\n",
    "    fig.show()\n",
    "\n",
    "def three_dim_heat_map_plot(kernel,pcs):\n",
    "    heat_pcs=heat_map(kernel,pcs)\n",
    "    heat_pcs_res0=embedded_res_assign(100,199,heat_pcs)\n",
    "    heat_pcs_res=embedded_frame_assign(100,199,heat_pcs)\n",
    "    fig=px.scatter_3d(pcs, x=0, y=1, z=2,color=\"heat\",hover_data=[\"heat\",\"res\",\"frame\"])\n",
    "    fig.update_traces(marker_size = 3)\n",
    "    fig.show()\n",
    "\n",
    "def heat_map_plot_resid(kernel,pcs,pc_b):\n",
    "    heat_pcs=heat_map(kernel,pcs)\n",
    "    heat_pcs_res=embedded_res_assign(100,199,heat_pcs)\n",
    "    fig=px.scatter(heat_pcs_res, x= 0, y= pc_b, color=\"res\",color_continuous_scale=px.colors.sequential.Turbo)\n",
    "    fig.update_traces(marker=dict(size=10))\n",
    "\n",
    "    fig.show()\n",
    "\n",
    "def heat_res_frame_map(kernel,pcs,num_frame,num_res):\n",
    "    heat_pcs=heat_map(kernel,pcs)\n",
    "    heat_pcs_res=embedded_res_assign(num_frame,num_res,heat_pcs)\n",
    "    heat_pcs_res_frame=embedded_frame_assign(num_frame,num_res,heat_pcs)\n",
    "    return heat_pcs_res_frame\n",
    "\n"
   ]
  },
  {
   "cell_type": "code",
   "execution_count": 98,
   "id": "ac8c9612",
   "metadata": {},
   "outputs": [],
   "source": [
    "wt_heat = heat_res_frame_map(kernel, wt_pcs, 4000, 194)"
   ]
  },
  {
   "cell_type": "code",
   "execution_count": 99,
   "id": "da1c8457",
   "metadata": {},
   "outputs": [],
   "source": [
    "wt_heat.to_csv(\"/home/student5/Desktop/Energetics/Processed/DBD_WT_Long_Elec_1-194.csv\")"
   ]
  },
  {
   "cell_type": "code",
   "execution_count": null,
   "id": "41d560c9",
   "metadata": {},
   "outputs": [],
   "source": [
    "fig = plt.figure()\n",
    "ax = fig.add_subplot(111, projection='3d')\n",
    "ax.scatter(wt_heat[0], wt_heat[1], wt_heat[2], c=wt_heat[\"heat\"], cmap=\"inferno\")"
   ]
  }
 ],
 "metadata": {
  "colab": {
   "provenance": []
  },
  "kernelspec": {
   "display_name": "AmberTools23",
   "language": "python",
   "name": "ambertools23"
  },
  "language_info": {
   "codemirror_mode": {
    "name": "ipython",
    "version": 3
   },
   "file_extension": ".py",
   "mimetype": "text/x-python",
   "name": "python",
   "nbconvert_exporter": "python",
   "pygments_lexer": "ipython3",
   "version": "3.11.4"
  }
 },
 "nbformat": 4,
 "nbformat_minor": 5
}
