{
 "cells": [
  {
   "cell_type": "markdown",
   "id": "ada96ee8",
   "metadata": {},
   "source": [
    "# Heat Kernel Generation and Analysis"
   ]
  },
  {
   "cell_type": "markdown",
   "id": "b73195e9",
   "metadata": {},
   "source": [
    "Given frames of locally normalized residue-residue pairwise energetic matrices, this step in the pipeline generates the heat kernel, provides the ability to determine the optimal cutoff and time values, then applies PCA on the reference data. Once these values are determined, the same values are used to generate the heat kernel and PCA of all other constructs being studied.\n",
    "\n",
    "Modified by Sean Stetson on Oct 31, 2024."
   ]
  },
  {
   "cell_type": "code",
   "execution_count": 1,
   "id": "7ab79441",
   "metadata": {},
   "outputs": [],
   "source": [
    "#Edit these to suit your system: \n",
    "NUM_FRAMES = 6000     # Number of frames per construct\n",
    "NUM_RESIDUES = 393\n",
    "\n",
    "# Path to matrix data\n",
    "path = \"/home/student5/Desktop/Energetics/zfshomes/sstetson/End_Fall23-Pres/Analysis/FL/ff14SB/Energetics/\""
   ]
  },
  {
   "cell_type": "code",
   "execution_count": 2,
   "id": "extreme-psychology",
   "metadata": {
    "id": "extreme-psychology"
   },
   "outputs": [],
   "source": [
    "import numpy as np\n",
    "import pandas as pd\n",
    "import matplotlib.pyplot as plt\n",
    "import scipy\n",
    "import plotly.express as px\n",
    "from plotly.subplots import make_subplots\n",
    "import plotly.graph_objects as go\n",
    "from kneed import KneeLocator as KneedLoc\n",
    "from sklearn.decomposition import PCA\n",
    "from itertools import chain\n",
    "\n",
    "plt.rcParams[\"font.family\"] = \"Helvetica\""
   ]
  },
  {
   "cell_type": "code",
   "execution_count": 3,
   "id": "introductory-leader",
   "metadata": {
    "id": "introductory-leader"
   },
   "outputs": [],
   "source": [
    "# %matplotlib widget"
   ]
  },
  {
   "cell_type": "markdown",
   "id": "ebbae135",
   "metadata": {},
   "source": [
    "## Load and Process Data"
   ]
  },
  {
   "cell_type": "code",
   "execution_count": 4,
   "id": "frank-cornwall",
   "metadata": {
    "id": "frank-cornwall"
   },
   "outputs": [],
   "source": [
    "def LoadData(file: str) -> np.array:\n",
    "    \"\"\"\n",
    "    `file` contains the location to a .npz file. The data from the file is read in, and returned as a np.array.\n",
    "    The file `file` points to is expected to only contain a single n x n array, an error is thrown if this is not true,\n",
    "    since this means that means there is some sort of problem.  \n",
    "    \"\"\"\n",
    "    toReturn = []\n",
    "    with np.load(file) as data:\n",
    "        lst = data.files\n",
    "        for item in lst:\n",
    "            toReturn.append(data[item])\n",
    "    if len(toReturn) > 1: raise ValueError(f\"file has length {len(toReturn)}\")\n",
    "    return toReturn[0]\n",
    "    \n",
    "def ThresholdNormalizedGraph(matrix: np.array, cutoff: float):\n",
    "    \"\"\"\n",
    "    Given an n x n np.array (`matrix`), uses the provided `cutoff` to threshold all values lower than the cutoff to \n",
    "    zero. The input array is expected to already be normalized, which should be true if the matrix was generated\n",
    "    by the pairwise energetic calculation and thresholding script written by Sean Stetson.\n",
    "    \"\"\"\n",
    "    size = matrix.shape[0]\n",
    "    newMatrix = np.zeros((size, size))\n",
    "    for x, row in enumerate(matrix):\n",
    "        for y, val in enumerate(row):\n",
    "            newMatrix[x, y] = matrix[x, y] if matrix[x, y] > cutoff else 0\n",
    "\n",
    "    return newMatrix\n",
    "\n",
    "def TestThresh(data: np.ndarray, construct: str, binWidth: float = 0.001, thresh: float = None, hideAbove = 0.04) -> None:\n",
    "    \"\"\"\n",
    "    Given a np.ndarray (`data`), plots a histogram of edge weights so that the user may identify their cutoff point.\n",
    "    `construct` is a description of the construct being plotted, used in the title of the graph and file path of the image.\n",
    "    `binWidth` controls the width of the bins used in the histogram plot.\n",
    "    `thresh` is a proposed threshold value, if provided, is plotted as a vertical line along with the histogram to illustrate\n",
    "    what data will be cut off.\n",
    "    `hideAbove` hides all data above the value, which reduces visual clutter in the histogram. \n",
    "    \"\"\"\n",
    "    fig, ax = plt.subplots(layout = \"constrained\")\n",
    "    d = data.flatten()\n",
    "    d = d[d < hideAbove] # Some values exist beyone this range but aren\"t relevant for this step\n",
    "    x = ax.hist(d, bins = int((np.max(d) - np.min(d)) / binWidth))\n",
    "    ax.set_xlabel(\"Normalized Edge Weight Value\")\n",
    "    ax.set_ylabel(\"Number of Edges\")\n",
    "    if thresh: ax.vlines([thresh], 0, 1, colors = \"red\", linestyles = \"-\", transform = ax.get_xaxis_transform())\n",
    "    fig.suptitle(f\"{construct} Distribution of Edge Weight: Thresh = {thresh}\", fontsize=10)\n",
    "    plt.savefig(f\"{construct}_EdgeWeightDist.png\", bbox_inches = \"tight\", dpi = 300, transparent = False, facecolor = \"white\")"
   ]
  },
  {
   "cell_type": "markdown",
   "id": "overhead-surveillance",
   "metadata": {
    "id": "overhead-surveillance"
   },
   "source": [
    "## Heat Kernel Analysis\n",
    "See https://link.springer.com/chapter/10.1007/11815921_18 for detailed explanation"
   ]
  },
  {
   "cell_type": "code",
   "execution_count": 5,
   "id": "sustained-devon",
   "metadata": {
    "id": "sustained-devon"
   },
   "outputs": [],
   "source": [
    "def MatrixExponentiation(eigenvectors, eigenvalues, t):\n",
    "    \"\"\"\n",
    "    Raise e^matrix where matrix is a square\n",
    "    \"\"\"\n",
    "    shape = eigenvectors.shape[0]\n",
    "    processedEigenvalues = np.exp(-t*eigenvalues)\n",
    "    e_diagonal = np.diag(processedEigenvalues)\n",
    "    return eigenvectors.dot(e_diagonal).dot(eigenvectors.transpose())\n",
    "\n",
    "def GetHeatKernel(matrix: np.array, t: float) -> np.array:\n",
    "    \"\"\"\n",
    "    Computes the heat kernel for a specific matrix and time value\n",
    "    \"\"\"\n",
    "    laplacian = scipy.sparse.csgraph.laplacian(matrix, normed = True)\n",
    "    (eigenvalues, eigenvectors) = np.linalg.eigh(laplacian)\n",
    "    x = MatrixExponentiation(eigenvectors, eigenvalues, t)\n",
    "    x = np.round(x, decimals = 6)\n",
    "    return x\n",
    "\n",
    "def KernelFromEnergyTensorThresh(tensor: np.ndarray, threshold: float, time: float) -> np.ndarray:\n",
    "    \"\"\"\n",
    "    Given a data tensor (`tensor`), the threshold value (`threshold`), and the time value (`time`),\n",
    "    computes the heat kernel. \n",
    "    \"\"\"\n",
    "    kernels = np.zeros((tensor.shape[0], tensor.shape[1], tensor.shape[2]))\n",
    "    for i, matrix in enumerate(tensor):\n",
    "        thresholded = ThresholdNormalizedGraph(matrix, threshold)\n",
    "        kernel = GetHeatKernel(thresholded, time)\n",
    "        kernels[i] = kernel\n",
    "\n",
    "    return kernels"
   ]
  },
  {
   "cell_type": "markdown",
   "id": "6609c3f1",
   "metadata": {},
   "source": [
    "## PCA"
   ]
  },
  {
   "cell_type": "code",
   "execution_count": 6,
   "id": "organized-hurricane",
   "metadata": {
    "id": "organized-hurricane"
   },
   "outputs": [],
   "source": [
    "def GetPCA(kernel: np.ndarray, dim: int) -> tuple[np.ndarray, np.ndarray]:\n",
    "    \"\"\"\n",
    "    Computes the PC decomposition of `kernel` with `dim` number of components.\n",
    "    Returns the transformed data and the explained variance of the data.\n",
    "    \"\"\"\n",
    "    pca = PCA(n_components = dim)\n",
    "    pca.fit(kernel)\n",
    "    transformed = pca.transform(kernel)\n",
    "    return (transformed, pca.explained_variance_)\n",
    "\n",
    "def MakePCA_DF(kernels: np.ndarray, numComponents: int, showVar: bool = False) -> tuple[np.ndarray | None, np.ndarray]:\n",
    "    \"\"\"\n",
    "    Given a tensor of heat kernel data, computes the PC decomposition of each element with\n",
    "    `numComponents` number of components. Returns the explained variance if `showVar == True`,\n",
    "    and None otherwise, and returns the transformed tensor.\n",
    "    \"\"\"\n",
    "    dfs = []\n",
    "    eigens = []\n",
    "    for kernel in kernels:\n",
    "        (pcs, var) = GetPCA(kernel, numComponents)\n",
    "        dfs.append(pd.DataFrame(pcs))\n",
    "        if showVar:\n",
    "            eigens += [var]\n",
    "\n",
    "    return (eigens, pd.concat(dfs))"
   ]
  },
  {
   "cell_type": "markdown",
   "id": "focused-delight",
   "metadata": {
    "id": "focused-delight"
   },
   "source": [
    "## Format Output"
   ]
  },
  {
   "cell_type": "code",
   "execution_count": 7,
   "id": "binary-wisconsin",
   "metadata": {
    "id": "binary-wisconsin"
   },
   "outputs": [],
   "source": [
    "def AssignResNum(numFrames: int, numRes: int, df: pd.DataFrame) -> pd.DataFrame:\n",
    "    \"\"\"\n",
    "    Given a dataframe, adds the column \"res\" to it, which keeps track of residue number.\n",
    "    The precondition is that the dataframe is organized such that it lists all resides\n",
    "    in increasing order for frame 1, then frame 2, and so on. Returns the modified dataframe.\n",
    "    \"\"\"\n",
    "    df[\"res\"] = (list(range(numRes)) * numFrames)\n",
    "    return df\n",
    "\n",
    "def AssignFrameNum(numFrames: int, numRes: int, df: pd.DataFrame) -> pd.DataFrame:\n",
    "    \"\"\"\n",
    "    Given a dataframe, adds the column \"frame\" to it, which keeps track of the frame number.\n",
    "    The precondition is that the dataframe is organized such that it lists all resides\n",
    "    in increasing order for frame 1, then frame 2, and so on. Returns the modified dataframe.\n",
    "    \"\"\"\n",
    "    framesList = [[x] * numRes for x in range(numFrames)]\n",
    "    df[\"frame\"] = list(chain(*framesList)) # unpacks the nested list\n",
    "    return df\n",
    "\n",
    "def MapToHeat(kernel: np.ndarray, df: pd.DataFrame) -> pd.DataFrame:\n",
    "    \"\"\"\n",
    "    Given a dataframe, adds the column \"heat\" to it, which keeps track of the heat value.\n",
    "    The precondition is that the dataframe is organized such that it lists all resides\n",
    "    in increasing order for frame 1, then frame 2, and so on. Returns the modified dataframe.\n",
    "    \"\"\"\n",
    "    diagEls = []\n",
    "    for matrix in kernel[:]:\n",
    "        diagElement = np.diag(matrix)\n",
    "        diagEls += [diagElement]\n",
    "    diagFlat = np.concatenate(diagEls)\n",
    "    #set the column called \"heat\" to the flattened diagonal matrix consisting of the diagonal elements of the kernel\n",
    "    df[\"heat\"] = diagFlat\n",
    "    return df\n",
    "\n",
    "def mapPCsToHeatRes(pcs: pd.DataFrame, kernel: np.ndarray) -> pd.DataFrame:\n",
    "    \"\"\"\n",
    "    Given a dataframe that contains the PC data of the heat kernel, adds\n",
    "    the columns \"res\", \"frame\", and \"heat\".\n",
    "    Returns the modified dataframe.\n",
    "    \"\"\"\n",
    "    pcs = pcs.copy()\n",
    "    \n",
    "    pcs = MapToHeat(kernel, pcs)\n",
    "    \n",
    "    pcs[\"res\"] = [x + 1 for x in (list(range(NUM_RESIDUES)) * NUM_FRAMES)]\n",
    "    \n",
    "    framesList = [[x] * NUM_RESIDUES for x in range(NUM_FRAMES)]\n",
    "    pcs[\"frame\"] = list(chain(*framesList)) # unpacks the nested list\n",
    "\n",
    "    return pcs"
   ]
  },
  {
   "cell_type": "markdown",
   "id": "0f051f01",
   "metadata": {},
   "source": [
    "## Determine Cutoff, Time Values for Reference System"
   ]
  },
  {
   "cell_type": "code",
   "execution_count": 9,
   "id": "polar-words",
   "metadata": {
    "id": "polar-words",
    "scrolled": true
   },
   "outputs": [
    {
     "data": {
      "text/plain": [
       "array([[[0.        , 0.01327499, 0.01161556, ..., 0.00240205,\n",
       "         0.00159166, 0.00283909],\n",
       "        [0.01327499, 0.        , 0.01312647, ..., 0.00251648,\n",
       "         0.00221125, 0.00305427],\n",
       "        [0.01161556, 0.01312647, 0.        , ..., 0.00250009,\n",
       "         0.00219331, 0.0029989 ],\n",
       "        ...,\n",
       "        [0.00240205, 0.00251648, 0.00250009, ..., 0.        ,\n",
       "         0.01549334, 0.01476951],\n",
       "        [0.00159166, 0.00221125, 0.00219331, ..., 0.01549334,\n",
       "         0.        , 0.0181178 ],\n",
       "        [0.00283909, 0.00305427, 0.0029989 , ..., 0.01476951,\n",
       "         0.0181178 , 0.        ]],\n",
       "\n",
       "       [[0.        , 0.01225248, 0.01103093, ..., 0.00247762,\n",
       "         0.0016766 , 0.00302596],\n",
       "        [0.01225248, 0.        , 0.01403142, ..., 0.00264167,\n",
       "         0.00234268, 0.00333519],\n",
       "        [0.01103093, 0.01403142, 0.        , ..., 0.00254145,\n",
       "         0.00220687, 0.00318794],\n",
       "        ...,\n",
       "        [0.00247762, 0.00264167, 0.00254145, ..., 0.        ,\n",
       "         0.01856716, 0.01471809],\n",
       "        [0.0016766 , 0.00234268, 0.00220687, ..., 0.01856716,\n",
       "         0.        , 0.01790969],\n",
       "        [0.00302596, 0.00333519, 0.00318794, ..., 0.01471809,\n",
       "         0.01790969, 0.        ]],\n",
       "\n",
       "       [[0.        , 0.01239756, 0.01077097, ..., 0.00247757,\n",
       "         0.00167908, 0.00303966],\n",
       "        [0.01239756, 0.        , 0.01362278, ..., 0.00256537,\n",
       "         0.00229209, 0.00324561],\n",
       "        [0.01077097, 0.01362278, 0.        , ..., 0.00253698,\n",
       "         0.00224242, 0.00322083],\n",
       "        ...,\n",
       "        [0.00247757, 0.00256537, 0.00253698, ..., 0.        ,\n",
       "         0.0180091 , 0.01413834],\n",
       "        [0.00167908, 0.00229209, 0.00224242, ..., 0.0180091 ,\n",
       "         0.        , 0.01841592],\n",
       "        [0.00303966, 0.00324561, 0.00322083, ..., 0.01413834,\n",
       "         0.01841592, 0.        ]],\n",
       "\n",
       "       ...,\n",
       "\n",
       "       [[0.        , 0.01278684, 0.0088928 , ..., 0.00173804,\n",
       "         0.00175941, 0.001924  ],\n",
       "        [0.01278684, 0.        , 0.01244735, ..., 0.0027439 ,\n",
       "         0.00279002, 0.00302755],\n",
       "        [0.0088928 , 0.01244735, 0.        , ..., 0.00280565,\n",
       "         0.00286966, 0.00313988],\n",
       "        ...,\n",
       "        [0.00173804, 0.0027439 , 0.00280565, ..., 0.        ,\n",
       "         0.03197304, 0.02157112],\n",
       "        [0.00175941, 0.00279002, 0.00286966, ..., 0.03197304,\n",
       "         0.        , 0.03060646],\n",
       "        [0.001924  , 0.00302755, 0.00313988, ..., 0.02157112,\n",
       "         0.03060646, 0.        ]],\n",
       "\n",
       "       [[0.        , 0.01289665, 0.00940747, ..., 0.00166224,\n",
       "         0.00171332, 0.00185783],\n",
       "        [0.01289665, 0.        , 0.01187405, ..., 0.00261002,\n",
       "         0.00269949, 0.00279891],\n",
       "        [0.00940747, 0.01187405, 0.        , ..., 0.00265693,\n",
       "         0.00276971, 0.00287664],\n",
       "        ...,\n",
       "        [0.00166224, 0.00261002, 0.00265693, ..., 0.        ,\n",
       "         0.02470125, 0.0234478 ],\n",
       "        [0.00171332, 0.00269949, 0.00276971, ..., 0.02470125,\n",
       "         0.        , 0.02805137],\n",
       "        [0.00185783, 0.00279891, 0.00287664, ..., 0.0234478 ,\n",
       "         0.02805137, 0.        ]],\n",
       "\n",
       "       [[0.        , 0.01156907, 0.009572  , ..., 0.00188835,\n",
       "         0.00180513, 0.00209557],\n",
       "        [0.01156907, 0.        , 0.01186157, ..., 0.00290673,\n",
       "         0.00279609, 0.00280464],\n",
       "        [0.009572  , 0.01186157, 0.        , ..., 0.00302783,\n",
       "         0.00290989, 0.00290676],\n",
       "        ...,\n",
       "        [0.00188835, 0.00290673, 0.00302783, ..., 0.        ,\n",
       "         0.02402036, 0.01857121],\n",
       "        [0.00180513, 0.00279609, 0.00290989, ..., 0.02402036,\n",
       "         0.        , 0.02834322],\n",
       "        [0.00209557, 0.00280464, 0.00290676, ..., 0.01857121,\n",
       "         0.02834322, 0.        ]]])"
      ]
     },
     "execution_count": 9,
     "metadata": {},
     "output_type": "execute_result"
    }
   ],
   "source": [
    "etensor = [\n",
    "    LoadData(path + f\"Rep1/WT/normal/elec_1-393/elec_{x}.npz\") for x in range(1, 1001)\n",
    "] + [\n",
    "    LoadData(path + f\"Rep2/WT/normal/elec_1-393/elec_{x}.npz\") for x in range(1, 1001)\n",
    "] + [\n",
    "    LoadData(path + f\"Rep3/WT/normal/elec_1-393/elec_{x}.npz\") for x in range(1, 1001)\n",
    "] + [\n",
    "    LoadData(path + f\"Rep4/WT/normal/elec_1-393/elec_{x}.npz\") for x in range(1, 1001)\n",
    "] + [\n",
    "    LoadData(path + f\"Short/Rep1/WT/normal/elec_1-393/elec_{x}.npz\") for x in range(1, 201)\n",
    "] + [\n",
    "    LoadData(path + f\"Short/Rep2/WT/normal/elec_1-393/elec_{x}.npz\") for x in range(1, 201)\n",
    "] + [\n",
    "    LoadData(path + f\"Short/Rep3/WT/normal/elec_1-393/elec_{x}.npz\") for x in range(1, 201)\n",
    "] + [\n",
    "    LoadData(path + f\"Short/Rep4/WT/normal/elec_1-393/elec_{x}.npz\") for x in range(1, 201)\n",
    "] + [\n",
    "    LoadData(path + f\"Short/Rep5/WT/normal/elec_1-393/elec_{x}.npz\") for x in range(1, 201)\n",
    "] + [\n",
    "    LoadData(path + f\"Short/Rep6/WT/normal/elec_1-393/elec_{x}.npz\") for x in range(1, 201)\n",
    "] + [\n",
    "    LoadData(path + f\"Short/Rep7/WT/normal/elec_1-393/elec_{x}.npz\") for x in range(1, 201)\n",
    "] + [\n",
    "    LoadData(path + f\"Short/Rep8/WT/normal/elec_1-393/elec_{x}.npz\") for x in range(1, 201)\n",
    "] + [\n",
    "    LoadData(path + f\"Short/Rep9/WT/normal/elec_1-393/elec_{x}.npz\") for x in range(1, 201)\n",
    "] + [\n",
    "    LoadData(path + f\"Short/Rep10/WT/normal/elec_1-393/elec_{x}.npz\") for x in range(1, 201)\n",
    "]\n",
    "\n",
    "etensor = np.array(etensor) #etensor indexing: frame, row, column\n",
    "etensor"
   ]
  },
  {
   "cell_type": "code",
   "execution_count": 10,
   "id": "62dc4075",
   "metadata": {
    "colab": {
     "referenced_widgets": [
      "d9df7a1be0fd44adbe73420c95b2b744"
     ]
    },
    "id": "62dc4075",
    "outputId": "628d6286-00c8-4105-e3ef-2022b8f38772"
   },
   "outputs": [
    {
     "data": {
      "image/png": "[encoded data removed]",
      "text/plain": [
       "<Figure size 432x288 with 1 Axes>"
      ]
     },
     "metadata": {
      "needs_background": "light"
     },
     "output_type": "display_data"
    }
   ],
   "source": [
    "TestThresh(etensor, \"WT_FL\", thresh = 0.003)"
   ]
  },
  {
   "cell_type": "markdown",
   "id": "neural-words",
   "metadata": {
    "id": "neural-words"
   },
   "source": [
    "### Creating thresholded and normalized matrices of the energy tensors:\n",
    "##### This is done to check where we might want to cut off values in our subsequent tensor generation"
   ]
  },
  {
   "cell_type": "markdown",
   "id": "cbde52dc",
   "metadata": {
    "id": "cbde52dc"
   },
   "source": [
    "### Determining Time and Thresh Parameters"
   ]
  },
  {
   "cell_type": "code",
   "execution_count": 11,
   "id": "99703da6",
   "metadata": {
    "id": "99703da6"
   },
   "outputs": [],
   "source": [
    "TIME = 5\n",
    "THRESH = 0.003\n",
    "numPCsToTest = 15\n",
    "\n",
    "kernel = KernelFromEnergyTensorThresh(etensor, THRESH, TIME)\n",
    "variance, pcs = MakePCA_DF(kernel, numPCsToTest, showVar = True)\n",
    "\n",
    "varianceDF = pd.DataFrame(variance)\n",
    "meanVariance = varianceDF.mean(axis = 0)"
   ]
  },
  {
   "cell_type": "code",
   "execution_count": 12,
   "id": "f8e53419",
   "metadata": {
    "colab": {
     "referenced_widgets": [
      "bb92e483f75a43b6a81110ac17547132"
     ]
    },
    "id": "f8e53419",
    "outputId": "d2651dc2-f2d0-4179-92f9-12325bc6e355"
   },
   "outputs": [
    {
     "name": "stdout",
     "output_type": "stream",
     "text": [
      "Elbow Eigenvalue: 2\n"
     ]
    },
    {
     "name": "stderr",
     "output_type": "stream",
     "text": [
      "/tmp/ipykernel_39828/867390808.py:7: UserWarning: Glyph 8722 (\\N{MINUS SIGN}) missing from current font.\n",
      "  plt.savefig(\"FL_WT_PCA_Knee.png\", bbox_inches = \"tight\", dpi = 300)\n",
      "/home/student5/anaconda3/envs/AmberTools23/lib/python3.11/site-packages/IPython/core/pylabtools.py:152: UserWarning: Glyph 8722 (\\N{MINUS SIGN}) missing from current font.\n",
      "  fig.canvas.print_figure(bytes_io, **kw)\n"
     ]
    },
    {
     "data": {
      "image/png": "[encoded data removed]",
      "text/plain": [
       "<Figure size 432x432 with 1 Axes>"
      ]
     },
     "metadata": {
      "needs_background": "light"
     },
     "output_type": "display_data"
    },
    {
     "data": {
      "image/png": "[encoded data removed]",
      "text/plain": [
       "<Figure size 432x432 with 1 Axes>"
      ]
     },
     "metadata": {
      "needs_background": "light"
     },
     "output_type": "display_data"
    }
   ],
   "source": [
    "kneedl= KneedLoc(range(1, numPCsToTest+1), meanVariance, S = 1, curve = \"convex\", direction = \"decreasing\")\n",
    "print(\"Elbow Eigenvalue:\", round(kneedl.elbow, 3))\n",
    "kneedl.plot_knee()\n",
    "ax = plt.gca()\n",
    "ax.set_xlabel(\"Number of PCs\")\n",
    "ax.set_ylabel(\"Eigenvalue\")\n",
    "plt.savefig(\"FL_WT_PCA_Knee.png\", bbox_inches = \"tight\", dpi = 300)\n",
    "kneedl.plot_knee_normalized()\n",
    "plt.savefig(\"FL_WT_PCA_KneeDiff.png\", bbox_inches = \"tight\", dpi = 300)"
   ]
  },
  {
   "cell_type": "code",
   "execution_count": 13,
   "id": "315b5a94",
   "metadata": {},
   "outputs": [
    {
     "data": {
      "text/html": [
       "<div>\n",
       "<style scoped>\n",
       "    .dataframe tbody tr th:only-of-type {\n",
       "        vertical-align: middle;\n",
       "    }\n",
       "\n",
       "    .dataframe tbody tr th {\n",
       "        vertical-align: top;\n",
       "    }\n",
       "\n",
       "    .dataframe thead th {\n",
       "        text-align: right;\n",
       "    }\n",
       "</style>\n",
       "<table border=\"1\" class=\"dataframe\">\n",
       "  <thead>\n",
       "    <tr style=\"text-align: right;\">\n",
       "      <th></th>\n",
       "      <th>0</th>\n",
       "      <th>1</th>\n",
       "    </tr>\n",
       "  </thead>\n",
       "  <tbody>\n",
       "    <tr>\n",
       "      <th>0</th>\n",
       "      <td>-0.004033</td>\n",
       "      <td>0.003265</td>\n",
       "    </tr>\n",
       "    <tr>\n",
       "      <th>1</th>\n",
       "      <td>-0.000505</td>\n",
       "      <td>0.003553</td>\n",
       "    </tr>\n",
       "    <tr>\n",
       "      <th>2</th>\n",
       "      <td>-0.000212</td>\n",
       "      <td>0.004053</td>\n",
       "    </tr>\n",
       "    <tr>\n",
       "      <th>3</th>\n",
       "      <td>-0.005428</td>\n",
       "      <td>0.003104</td>\n",
       "    </tr>\n",
       "    <tr>\n",
       "      <th>4</th>\n",
       "      <td>0.001346</td>\n",
       "      <td>0.003980</td>\n",
       "    </tr>\n",
       "    <tr>\n",
       "      <th>...</th>\n",
       "      <td>...</td>\n",
       "      <td>...</td>\n",
       "    </tr>\n",
       "    <tr>\n",
       "      <th>388</th>\n",
       "      <td>-0.005184</td>\n",
       "      <td>0.001581</td>\n",
       "    </tr>\n",
       "    <tr>\n",
       "      <th>389</th>\n",
       "      <td>-0.005179</td>\n",
       "      <td>0.001552</td>\n",
       "    </tr>\n",
       "    <tr>\n",
       "      <th>390</th>\n",
       "      <td>-0.002607</td>\n",
       "      <td>0.001739</td>\n",
       "    </tr>\n",
       "    <tr>\n",
       "      <th>391</th>\n",
       "      <td>-0.004540</td>\n",
       "      <td>0.001535</td>\n",
       "    </tr>\n",
       "    <tr>\n",
       "      <th>392</th>\n",
       "      <td>-0.001486</td>\n",
       "      <td>0.001564</td>\n",
       "    </tr>\n",
       "  </tbody>\n",
       "</table>\n",
       "<p>2358000 rows × 2 columns</p>\n",
       "</div>"
      ],
      "text/plain": [
       "            0         1\n",
       "0   -0.004033  0.003265\n",
       "1   -0.000505  0.003553\n",
       "2   -0.000212  0.004053\n",
       "3   -0.005428  0.003104\n",
       "4    0.001346  0.003980\n",
       "..        ...       ...\n",
       "388 -0.005184  0.001581\n",
       "389 -0.005179  0.001552\n",
       "390 -0.002607  0.001739\n",
       "391 -0.004540  0.001535\n",
       "392 -0.001486  0.001564\n",
       "\n",
       "[2358000 rows x 2 columns]"
      ]
     },
     "execution_count": 13,
     "metadata": {},
     "output_type": "execute_result"
    }
   ],
   "source": [
    "OPTIMAL_PCs = int(round(kneedl.elbow, 3))\n",
    "df = pcs[list(range(OPTIMAL_PCs))]\n",
    "df"
   ]
  },
  {
   "cell_type": "code",
   "execution_count": 14,
   "id": "ac8c9612",
   "metadata": {},
   "outputs": [
    {
     "data": {
      "text/html": [
       "<div>\n",
       "<style scoped>\n",
       "    .dataframe tbody tr th:only-of-type {\n",
       "        vertical-align: middle;\n",
       "    }\n",
       "\n",
       "    .dataframe tbody tr th {\n",
       "        vertical-align: top;\n",
       "    }\n",
       "\n",
       "    .dataframe thead th {\n",
       "        text-align: right;\n",
       "    }\n",
       "</style>\n",
       "<table border=\"1\" class=\"dataframe\">\n",
       "  <thead>\n",
       "    <tr style=\"text-align: right;\">\n",
       "      <th></th>\n",
       "      <th>0</th>\n",
       "      <th>1</th>\n",
       "      <th>heat</th>\n",
       "      <th>res</th>\n",
       "      <th>frame</th>\n",
       "    </tr>\n",
       "  </thead>\n",
       "  <tbody>\n",
       "    <tr>\n",
       "      <th>0</th>\n",
       "      <td>-0.004033</td>\n",
       "      <td>0.003265</td>\n",
       "      <td>0.009022</td>\n",
       "      <td>1</td>\n",
       "      <td>0</td>\n",
       "    </tr>\n",
       "    <tr>\n",
       "      <th>1</th>\n",
       "      <td>-0.000505</td>\n",
       "      <td>0.003553</td>\n",
       "      <td>0.009371</td>\n",
       "      <td>2</td>\n",
       "      <td>0</td>\n",
       "    </tr>\n",
       "    <tr>\n",
       "      <th>2</th>\n",
       "      <td>-0.000212</td>\n",
       "      <td>0.004053</td>\n",
       "      <td>0.009487</td>\n",
       "      <td>3</td>\n",
       "      <td>0</td>\n",
       "    </tr>\n",
       "    <tr>\n",
       "      <th>3</th>\n",
       "      <td>-0.005428</td>\n",
       "      <td>0.003104</td>\n",
       "      <td>0.008919</td>\n",
       "      <td>4</td>\n",
       "      <td>0</td>\n",
       "    </tr>\n",
       "    <tr>\n",
       "      <th>4</th>\n",
       "      <td>0.001346</td>\n",
       "      <td>0.003980</td>\n",
       "      <td>0.009608</td>\n",
       "      <td>5</td>\n",
       "      <td>0</td>\n",
       "    </tr>\n",
       "    <tr>\n",
       "      <th>...</th>\n",
       "      <td>...</td>\n",
       "      <td>...</td>\n",
       "      <td>...</td>\n",
       "      <td>...</td>\n",
       "      <td>...</td>\n",
       "    </tr>\n",
       "    <tr>\n",
       "      <th>388</th>\n",
       "      <td>-0.005184</td>\n",
       "      <td>0.001581</td>\n",
       "      <td>0.008890</td>\n",
       "      <td>389</td>\n",
       "      <td>5999</td>\n",
       "    </tr>\n",
       "    <tr>\n",
       "      <th>389</th>\n",
       "      <td>-0.005179</td>\n",
       "      <td>0.001552</td>\n",
       "      <td>0.008884</td>\n",
       "      <td>390</td>\n",
       "      <td>5999</td>\n",
       "    </tr>\n",
       "    <tr>\n",
       "      <th>390</th>\n",
       "      <td>-0.002607</td>\n",
       "      <td>0.001739</td>\n",
       "      <td>0.009100</td>\n",
       "      <td>391</td>\n",
       "      <td>5999</td>\n",
       "    </tr>\n",
       "    <tr>\n",
       "      <th>391</th>\n",
       "      <td>-0.004540</td>\n",
       "      <td>0.001535</td>\n",
       "      <td>0.008948</td>\n",
       "      <td>392</td>\n",
       "      <td>5999</td>\n",
       "    </tr>\n",
       "    <tr>\n",
       "      <th>392</th>\n",
       "      <td>-0.001486</td>\n",
       "      <td>0.001564</td>\n",
       "      <td>0.009207</td>\n",
       "      <td>393</td>\n",
       "      <td>5999</td>\n",
       "    </tr>\n",
       "  </tbody>\n",
       "</table>\n",
       "<p>2358000 rows × 5 columns</p>\n",
       "</div>"
      ],
      "text/plain": [
       "            0         1      heat  res  frame\n",
       "0   -0.004033  0.003265  0.009022    1      0\n",
       "1   -0.000505  0.003553  0.009371    2      0\n",
       "2   -0.000212  0.004053  0.009487    3      0\n",
       "3   -0.005428  0.003104  0.008919    4      0\n",
       "4    0.001346  0.003980  0.009608    5      0\n",
       "..        ...       ...       ...  ...    ...\n",
       "388 -0.005184  0.001581  0.008890  389   5999\n",
       "389 -0.005179  0.001552  0.008884  390   5999\n",
       "390 -0.002607  0.001739  0.009100  391   5999\n",
       "391 -0.004540  0.001535  0.008948  392   5999\n",
       "392 -0.001486  0.001564  0.009207  393   5999\n",
       "\n",
       "[2358000 rows x 5 columns]"
      ]
     },
     "execution_count": 14,
     "metadata": {},
     "output_type": "execute_result"
    }
   ],
   "source": [
    "pcsHeatRes = mapPCsToHeatRes(df, kernel)\n",
    "pcsHeatRes.to_csv(\"/home/student5/Desktop/Energetics/Processed/FL_WT_Long+Short_Elec_1-393.csv\", index=False)\n",
    "pcsHeatRes"
   ]
  },
  {
   "cell_type": "markdown",
   "id": "cec14add",
   "metadata": {},
   "source": [
    "## Generate Heat Kernel PCA Data for All Other Constructs Using Above Values"
   ]
  },
  {
   "cell_type": "code",
   "execution_count": null,
   "id": "b11157fd",
   "metadata": {},
   "outputs": [],
   "source": [
    "for construct in [\"WT_PK11000\", \"Y220C\", \"Y220C_PK11000\"]:\n",
    "    etensor = [\n",
    "        LoadData(path + f\"Rep1/{construct}/normal/elec_1-393/elec_{x}.npz\") for x in range(1, 1001)\n",
    "    ] + [\n",
    "        LoadData(path + f\"Rep2/{construct}/normal/elec_1-393/elec_{x}.npz\") for x in range(1, 1001)\n",
    "    ] + [\n",
    "        LoadData(path + f\"Rep3/{construct}/normal/elec_1-393/elec_{x}.npz\") for x in range(1, 1001)\n",
    "    ] + [\n",
    "        LoadData(path + f\"Rep4/{construct}/normal/elec_1-393/elec_{x}.npz\") for x in range(1, 1001)\n",
    "    ] + [\n",
    "        LoadData(path + f\"Short/Rep1/{construct}/normal/elec_1-393/elec_{x}.npz\") for x in range(1, 201)\n",
    "    ] + [\n",
    "        LoadData(path + f\"Short/Rep2/{construct}/normal/elec_1-393/elec_{x}.npz\") for x in range(1, 201)\n",
    "    ] + [\n",
    "        LoadData(path + f\"Short/Rep3/{construct}/normal/elec_1-393/elec_{x}.npz\") for x in range(1, 201)\n",
    "    ] + [\n",
    "        LoadData(path + f\"Short/Rep4/{construct}/normal/elec_1-393/elec_{x}.npz\") for x in range(1, 201)\n",
    "    ] + [\n",
    "        LoadData(path + f\"Short/Rep5/{construct}/normal/elec_1-393/elec_{x}.npz\") for x in range(1, 201)\n",
    "    ] + [\n",
    "        LoadData(path + f\"Short/Rep6/{construct}/normal/elec_1-393/elec_{x}.npz\") for x in range(1, 201)\n",
    "    ] + [\n",
    "        LoadData(path + f\"Short/Rep7/{construct}/normal/elec_1-393/elec_{x}.npz\") for x in range(1, 201)\n",
    "    ] + [\n",
    "        LoadData(path + f\"Short/Rep8/{construct}/normal/elec_1-393/elec_{x}.npz\") for x in range(1, 201)\n",
    "    ] + [\n",
    "        LoadData(path + f\"Short/Rep9/{construct}/normal/elec_1-393/elec_{x}.npz\") for x in range(1, 201)\n",
    "    ] + [\n",
    "        LoadData(path + f\"Short/Rep10/{construct}/normal/elec_1-393/elec_{x}.npz\") for x in range(1, 201)\n",
    "    ]\n",
    "\n",
    "    etensor = np.array(etensor) #etensor indexing: frame, row, column\n",
    "\n",
    "    kernel = KernelFromEnergyTensorThresh(etensor, THRESH, TIME)\n",
    "    _, pcs = MakePCA_DF(kernel, OPTIMAL_PCs, showVar = True)\n",
    "\n",
    "    pcsHeatRes = mapPCsToHeatRes(pcs, kernel)\n",
    "    pcsHeatRes.to_csv(f\"/home/student5/Desktop/Energetics/Processed/FL_{construct}_Long+Short_Elec_1-393.csv\", index=False)"
   ]
  }
 ],
 "metadata": {
  "colab": {
   "provenance": []
  },
  "kernelspec": {
   "display_name": "AmberTools23",
   "language": "python",
   "name": "ambertools23"
  },
  "language_info": {
   "codemirror_mode": {
    "name": "ipython",
    "version": 3
   },
   "file_extension": ".py",
   "mimetype": "text/x-python",
   "name": "python",
   "nbconvert_exporter": "python",
   "pygments_lexer": "ipython3",
   "version": "3.11.4"
  }
 },
 "nbformat": 4,
 "nbformat_minor": 5
}
