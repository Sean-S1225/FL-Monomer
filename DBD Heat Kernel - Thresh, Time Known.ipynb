{
 "cells": [
  {
   "cell_type": "code",
   "execution_count": 1,
   "id": "extreme-psychology",
   "metadata": {
    "id": "extreme-psychology"
   },
   "outputs": [],
   "source": [
    "import pytraj as pt\n",
    "import parmed as pmd\n",
    "import numpy as np\n",
    "import pandas as pd\n",
    "import matplotlib.pyplot as plt\n",
    "import torch\n",
    "import networkx as nx\n",
    "import scipy\n",
    "import pickle as pkl\n",
    "from tqdm.notebook import tqdm\n",
    "import plotly.express as px\n",
    "from plotly.subplots import make_subplots\n",
    "import plotly.graph_objects as go\n",
    "from scipy import exp\n",
    "from kneed import KneeLocator as KneedLoc\n",
    "from sklearn.decomposition import PCA"
   ]
  },
  {
   "cell_type": "code",
   "execution_count": 2,
   "id": "da2cb34b",
   "metadata": {},
   "outputs": [],
   "source": [
    "plt.rcParams['font.family'] = 'Helvetica'"
   ]
  },
  {
   "cell_type": "markdown",
   "id": "featured-incentive",
   "metadata": {
    "id": "featured-incentive"
   },
   "source": [
    "<h1> Graph Normalization and Thresholding </h1>"
   ]
  },
  {
   "cell_type": "code",
   "execution_count": 3,
   "id": "foreign-singles",
   "metadata": {
    "id": "foreign-singles"
   },
   "outputs": [],
   "source": [
    "def compute_normalized_graph(matrix):\n",
    "    row_sums = matrix.sum(axis=1)\n",
    "    size = matrix.shape[0]\n",
    "    new_matrix = np.zeros((size,size))\n",
    "    for x,row in enumerate(matrix):\n",
    "        #for every column's row\n",
    "        for y, val in enumerate(row):\n",
    "            #for every value in row\n",
    "            current = val / row_sums[x] if row_sums[x] != 0 else 0\n",
    "            new_matrix[x,y] = max([current,new_matrix[y,x]])\n",
    "            new_matrix[y,x] = max([current,new_matrix[x,y]])\n",
    "\n",
    "    return new_matrix"
   ]
  },
  {
   "cell_type": "code",
   "execution_count": 4,
   "id": "frank-cornwall",
   "metadata": {
    "id": "frank-cornwall"
   },
   "outputs": [],
   "source": [
    "def threshold_normalized_graph(matrix, cutoff):\n",
    "    size = matrix.shape[0]\n",
    "    new_matrix = np.zeros((size,size))\n",
    "    for x,row in enumerate(matrix):\n",
    "        for y, val in enumerate(row):\n",
    "            new_matrix[x,y] = 1 if matrix[x,y] > cutoff else 0\n",
    "\n",
    "    return new_matrix"
   ]
  },
  {
   "cell_type": "markdown",
   "id": "empty-might",
   "metadata": {
    "id": "empty-might"
   },
   "source": [
    "<h1> Pairwise Energy Tensor Analysis </h1>"
   ]
  },
  {
   "cell_type": "code",
   "execution_count": 5,
   "id": "vital-heater",
   "metadata": {
    "id": "vital-heater"
   },
   "outputs": [],
   "source": [
    "def thresh_and_norm_matrix(tensor,channel,threshold):\n",
    "    #same function as above, just quicker to access here outside of the tensor class\n",
    "    '''\n",
    "    channel (int): the energy channel to compute for\n",
    "    threshold (float): the cutoff value\n",
    "\n",
    "    returns : (numpy.ndarray) matrix of matrices summed over common edges, normalized,\n",
    "    and thresholded\n",
    "    '''\n",
    "    energy_tensor = torch.Tensor(tensor[:,channel])\n",
    "    sum_matrix = torch.sum(energy_tensor, dim=0).numpy()\n",
    "    normalized = compute_normalized_graph(sum_matrix)\n",
    "    #thresholded is binary\n",
    "    thresholded = threshold_normalized_graph(normalized,threshold)\n",
    "    weighted_threshold = thresholded * normalized\n",
    "    return (thresholded,weighted_threshold)"
   ]
  },
  {
   "cell_type": "markdown",
   "id": "overhead-surveillance",
   "metadata": {
    "id": "overhead-surveillance"
   },
   "source": [
    "<h1> Heat Kernel Analysis:</h1>"
   ]
  },
  {
   "cell_type": "markdown",
   "id": "later-snake",
   "metadata": {
    "id": "later-snake"
   },
   "source": [
    "### Heat Kernel PCA (See: https://link.springer.com/chapter/10.1007/11815921_18)"
   ]
  },
  {
   "cell_type": "code",
   "execution_count": 6,
   "id": "sustained-devon",
   "metadata": {
    "id": "sustained-devon"
   },
   "outputs": [],
   "source": [
    "def matrix_exponentiation(eigenvectors,eigenvalues,t):\n",
    "    '''\n",
    "    Raise e^matrix where matrix is a square\n",
    "    '''\n",
    "    shape = eigenvectors.shape[0]\n",
    "    processed_eigenvalues = np.exp(-t*eigenvalues)\n",
    "    e_diagonal = np.diag(processed_eigenvalues)\n",
    "    return eigenvectors.dot(e_diagonal).dot(eigenvectors.transpose())\n",
    "\n",
    "def get_heat_kernel(matrix,t):\n",
    "    laplacian = scipy.sparse.csgraph.laplacian(matrix,normed=True)\n",
    "    (eigenvalues,eigenvectors) = np.linalg.eigh(laplacian)\n",
    "    x = matrix_exponentiation(eigenvectors,eigenvalues,t)\n",
    "    x = np.round(x, decimals = 6)\n",
    "    return x\n",
    "\n",
    "def kernel_from_energy_tensor_thresh(tensor,threshold,time):\n",
    "    kernels = np.zeros((tensor.shape[0], tensor.shape[2], tensor.shape[2]))\n",
    "    for i, matrix in enumerate(tensor):\n",
    "        normalized = compute_normalized_graph(matrix)\n",
    "        thresholded = threshold_normalized_graph(normalized,threshold)\n",
    "        final_mat = thresholded * normalized\n",
    "        kernel = get_heat_kernel(final_mat, time)\n",
    "        kernels[i] = kernel\n",
    "\n",
    "    return kernels"
   ]
  },
  {
   "cell_type": "code",
   "execution_count": 7,
   "id": "organized-hurricane",
   "metadata": {
    "id": "organized-hurricane"
   },
   "outputs": [],
   "source": [
    "def get_pca(kernel,dim):\n",
    "    pca = PCA(n_components=dim)\n",
    "    pca.fit(kernel)\n",
    "    transformed = pca.transform(kernel)\n",
    "    return (transformed, pca.explained_variance_)"
   ]
  },
  {
   "cell_type": "code",
   "execution_count": 8,
   "id": "future-pledge",
   "metadata": {
    "id": "future-pledge"
   },
   "outputs": [],
   "source": [
    "def make_shared_pca_df(kernels, num_components, show_var=False):\n",
    "    dfs = []\n",
    "    eigens=[]\n",
    "    for kernel in kernels:\n",
    "        (pcs, var) = get_pca(kernel, num_components)\n",
    "        df = pd.DataFrame(pcs)\n",
    "        dfs.append(df)\n",
    "        if show_var:\n",
    "            eigens+=[var]\n",
    "\n",
    "    return (eigens, pd.concat(dfs))"
   ]
  },
  {
   "cell_type": "code",
   "execution_count": 9,
   "id": "binary-wisconsin",
   "metadata": {
    "id": "binary-wisconsin"
   },
   "outputs": [],
   "source": [
    "#assigns res number to each pcs embedding\n",
    "def embedded_res_assign(frame_tot,res_tot,df):\n",
    "    lst=np.zeros(frame_tot*res_tot)\n",
    "    n=res_tot\n",
    "    res_idx=[]\n",
    "    i=1\n",
    "    res=1\n",
    "    while i<=len(lst):\n",
    "        if res>res_tot:\n",
    "            res=1\n",
    "            res_idx.append(res)\n",
    "        else:\n",
    "            res_idx.append(res)\n",
    "        res+=1\n",
    "        i+=1\n",
    "    df['res'] =res_idx\n",
    "    return df\n",
    "\n",
    "def embedded_frame_assign(frame_tot,res_tot,df):\n",
    "    lst=np.zeros(frame_tot*res_tot)\n",
    "    n=res_tot\n",
    "    frame_idx=[]\n",
    "    i=1\n",
    "    frame=0\n",
    "    while i<=len(lst):\n",
    "        if (i)%n==0:\n",
    "            frame_idx.append(frame)\n",
    "            frame+=1\n",
    "        else:\n",
    "            frame_idx.append(frame)\n",
    "        i+=1\n",
    "    df['frame'] =frame_idx\n",
    "    return df\n",
    "\n",
    "\n",
    "def heat_map(kernel,pcs):\n",
    "    diag_els=[]\n",
    "    for matrix in kernel[:]:\n",
    "        diag_element=np.diag(matrix)\n",
    "        diag_els+=[diag_element]\n",
    "    diag_flat=np.concatenate(diag_els)\n",
    "    #set the column called 'heat' to the flattened diagonal matrix consisting of the diagonal elements of the kernel\n",
    "    pcs['heat'] =diag_flat\n",
    "    return pcs\n",
    "\n",
    "#range_color1=[0.0112,0.0134]\n",
    "range_color1=[]\n",
    "xrng=[-0.013, 0.024]\n",
    "yrng=[-0.013, 0.015]\n",
    "def heat_map_plot(kernel,pcs,pc_b,title_name):\n",
    "    heat_pcs=heat_map(kernel,pcs)\n",
    "    heat_pcs_res0=embedded_res_assign(100,199,heat_pcs)\n",
    "    heat_pcs_res=embedded_frame_assign(100,199,heat_pcs)\n",
    "    fig=px.scatter(heat_pcs_res, x= 0, y= pc_b, color=\"heat\",range_color=range_color1,hover_data=[\"heat\",\"res\",\"frame\"], labels={ \"0\": \"PC1\",\"2\": \"PC3\"},title=title_name)\n",
    "    fig.update_layout(title_x=0.5)\n",
    "    fig.update_layout(title_yanchor=\"top\")\n",
    "    fig.update_traces(marker=dict(size=10))\n",
    "    fig.update_xaxes(range=xrng)\n",
    "    fig.update_yaxes(range=yrng)\n",
    "    fig.update_layout(font=dict(\n",
    "        family=\"Arial\",\n",
    "        size=16))\n",
    "    fig.show()\n",
    "\n",
    "def three_dim_heat_map_plot(kernel,pcs):\n",
    "    heat_pcs=heat_map(kernel,pcs)\n",
    "    heat_pcs_res0=embedded_res_assign(100,199,heat_pcs)\n",
    "    heat_pcs_res=embedded_frame_assign(100,199,heat_pcs)\n",
    "    fig=px.scatter_3d(pcs, x=0, y=1, z=2,color=\"heat\",hover_data=[\"heat\",\"res\",\"frame\"])\n",
    "    fig.update_traces(marker_size = 3)\n",
    "    fig.show()\n",
    "\n",
    "def heat_map_plot_resid(kernel,pcs,pc_b):\n",
    "    heat_pcs=heat_map(kernel,pcs)\n",
    "    heat_pcs_res=embedded_res_assign(100,199,heat_pcs)\n",
    "    fig=px.scatter(heat_pcs_res, x= 0, y= pc_b, color=\"res\",color_continuous_scale=px.colors.sequential.Turbo)\n",
    "    fig.update_traces(marker=dict(size=10))\n",
    "\n",
    "    fig.show()\n",
    "\n",
    "def heat_res_frame_map(kernel,pcs,num_frame,num_res):\n",
    "    heat_pcs=heat_map(kernel,pcs)\n",
    "    heat_pcs_res=embedded_res_assign(num_frame,num_res,heat_pcs)\n",
    "    heat_pcs_res_frame=embedded_frame_assign(num_frame,num_res,heat_pcs)\n",
    "    return heat_pcs_res_frame\n",
    "\n"
   ]
  },
  {
   "cell_type": "markdown",
   "id": "violent-tutorial",
   "metadata": {
    "id": "violent-tutorial"
   },
   "source": [
    "# Energy Tensors:"
   ]
  },
  {
   "cell_type": "code",
   "execution_count": 10,
   "id": "1944c677",
   "metadata": {
    "id": "1944c677"
   },
   "outputs": [],
   "source": [
    "#etensor indexing: frame, row, column"
   ]
  },
  {
   "cell_type": "code",
   "execution_count": 11,
   "id": "77c4e74d",
   "metadata": {},
   "outputs": [],
   "source": [
    "def LoadData(file):\n",
    "    toReturn = []\n",
    "    with np.load(file) as data:\n",
    "        lst = data.files\n",
    "        for item in lst:\n",
    "            toReturn.append(data[item])\n",
    "    if len(toReturn) > 1: raise ValueError(f\"file has length {len(toReturn)}\")\n",
    "    return toReturn[0]"
   ]
  },
  {
   "cell_type": "code",
   "execution_count": 12,
   "id": "polar-words",
   "metadata": {
    "id": "polar-words",
    "scrolled": true
   },
   "outputs": [
    {
     "data": {
      "text/plain": [
       "array([[[0.        , 0.01904599, 0.01353679, ..., 0.00376342,\n",
       "         0.0043243 , 0.0047106 ],\n",
       "        [0.01904599, 0.        , 0.01645381, ..., 0.00343131,\n",
       "         0.0039511 , 0.00424955],\n",
       "        [0.01353679, 0.01645381, 0.        , ..., 0.00323744,\n",
       "         0.00368101, 0.00392055],\n",
       "        ...,\n",
       "        [0.00376342, 0.00343131, 0.00323744, ..., 0.        ,\n",
       "         0.02651854, 0.0210984 ],\n",
       "        [0.0043243 , 0.0039511 , 0.00368101, ..., 0.02651854,\n",
       "         0.        , 0.02971518],\n",
       "        [0.0047106 , 0.00424955, 0.00392055, ..., 0.0210984 ,\n",
       "         0.02971518, 0.        ]],\n",
       "\n",
       "       [[0.        , 0.01958412, 0.01401863, ..., 0.00328086,\n",
       "         0.0036986 , 0.00407919],\n",
       "        [0.01958412, 0.        , 0.01554034, ..., 0.00322682,\n",
       "         0.00364579, 0.00403168],\n",
       "        [0.01401863, 0.01554034, 0.        , ..., 0.00305132,\n",
       "         0.0034104 , 0.00374181],\n",
       "        ...,\n",
       "        [0.00328086, 0.00322682, 0.00305132, ..., 0.        ,\n",
       "         0.0274453 , 0.02170999],\n",
       "        [0.0036986 , 0.00364579, 0.0034104 , ..., 0.0274453 ,\n",
       "         0.        , 0.02999559],\n",
       "        [0.00407919, 0.00403168, 0.00374181, ..., 0.02170999,\n",
       "         0.02999559, 0.        ]],\n",
       "\n",
       "       [[0.        , 0.01864452, 0.01311777, ..., 0.00330328,\n",
       "         0.00384517, 0.00410204],\n",
       "        [0.01864452, 0.        , 0.017625  , ..., 0.00322725,\n",
       "         0.003761  , 0.00399865],\n",
       "        [0.01311777, 0.017625  , 0.        , ..., 0.0032484 ,\n",
       "         0.00374689, 0.00399211],\n",
       "        ...,\n",
       "        [0.00330328, 0.00322725, 0.0032484 , ..., 0.        ,\n",
       "         0.02454129, 0.02305097],\n",
       "        [0.00384517, 0.003761  , 0.00374689, ..., 0.02454129,\n",
       "         0.        , 0.03648744],\n",
       "        [0.00410204, 0.00399865, 0.00399211, ..., 0.02305097,\n",
       "         0.03648744, 0.        ]],\n",
       "\n",
       "       ...,\n",
       "\n",
       "       [[0.        , 0.01705766, 0.01119247, ..., 0.00339289,\n",
       "         0.00409934, 0.00466431],\n",
       "        [0.01705766, 0.        , 0.01572684, ..., 0.00313664,\n",
       "         0.00374266, 0.0043269 ],\n",
       "        [0.01119247, 0.01572684, 0.        , ..., 0.00313608,\n",
       "         0.00371278, 0.00438245],\n",
       "        ...,\n",
       "        [0.00339289, 0.00313664, 0.00313608, ..., 0.        ,\n",
       "         0.02552175, 0.0257627 ],\n",
       "        [0.00409934, 0.00374266, 0.00371278, ..., 0.02552175,\n",
       "         0.        , 0.02665609],\n",
       "        [0.00466431, 0.0043269 , 0.00438245, ..., 0.0257627 ,\n",
       "         0.02665609, 0.        ]],\n",
       "\n",
       "       [[0.        , 0.01656168, 0.01088214, ..., 0.00347492,\n",
       "         0.00431749, 0.00468677],\n",
       "        [0.01656168, 0.        , 0.01543503, ..., 0.00312517,\n",
       "         0.00384379, 0.00424333],\n",
       "        [0.01088214, 0.01543503, 0.        , ..., 0.00312706,\n",
       "         0.00384062, 0.00432008],\n",
       "        ...,\n",
       "        [0.00347492, 0.00312517, 0.00312706, ..., 0.        ,\n",
       "         0.02824751, 0.0290834 ],\n",
       "        [0.00431749, 0.00384379, 0.00384062, ..., 0.02824751,\n",
       "         0.        , 0.02979706],\n",
       "        [0.00468677, 0.00424333, 0.00432008, ..., 0.0290834 ,\n",
       "         0.02979706, 0.        ]],\n",
       "\n",
       "       [[0.        , 0.01671166, 0.01131298, ..., 0.0034939 ,\n",
       "         0.00453051, 0.00475728],\n",
       "        [0.01671166, 0.        , 0.01596783, ..., 0.00315866,\n",
       "         0.00407485, 0.00434737],\n",
       "        [0.01131298, 0.01596783, 0.        , ..., 0.00315901,\n",
       "         0.00406711, 0.0044243 ],\n",
       "        ...,\n",
       "        [0.0034939 , 0.00315866, 0.00315901, ..., 0.        ,\n",
       "         0.02924126, 0.02928949],\n",
       "        [0.00453051, 0.00407485, 0.00406711, ..., 0.02924126,\n",
       "         0.        , 0.02710029],\n",
       "        [0.00475728, 0.00434737, 0.0044243 , ..., 0.02928949,\n",
       "         0.02710029, 0.        ]]])"
      ]
     },
     "execution_count": 12,
     "metadata": {},
     "output_type": "execute_result"
    }
   ],
   "source": [
    "# wt_etensor=np.load('/home/student5/Desktop/Energetics/elec_1.npz')\n",
    "# for x in wt_etensor:\n",
    "#     print(x)\n",
    "\n",
    "path = \"/home/student5/Desktop/Energetics/zfshomes/sstetson/End_Fall23-Pres/Analysis/DBD/ff14SB/Energetics/\"\n",
    "etensor = [\n",
    "    LoadData(path + f\"WT_PK11000/Rep1/1-200/normal/elec_1-194/elec_{x}.npz\") for x in range(1, 201)\n",
    "] + [\n",
    "    LoadData(path + f\"WT_PK11000/Rep1/201-400/normal/elec_1-194/elec_{x}.npz\") for x in range(201, 401)\n",
    "] + [\n",
    "    LoadData(path + f\"WT_PK11000/Rep1/401-600/normal/elec_1-194/elec_{x}.npz\") for x in range(401, 601)\n",
    "] + [\n",
    "    LoadData(path + f\"WT_PK11000/Rep1/601-800/normal/elec_1-194/elec_{x}.npz\") for x in range(601, 801)\n",
    "] + [\n",
    "    LoadData(path + f\"WT_PK11000/Rep1/801-1000/normal/elec_1-194/elec_{x}.npz\") for x in range(801, 1001)\n",
    "] + [\n",
    "    LoadData(path + f\"WT_PK11000/Rep2/1-200/normal/elec_1-194/elec_{x}.npz\") for x in range(1, 201)\n",
    "] + [\n",
    "    LoadData(path + f\"WT_PK11000/Rep2/201-400/normal/elec_1-194/elec_{x}.npz\") for x in range(201, 401)\n",
    "] + [\n",
    "    LoadData(path + f\"WT_PK11000/Rep2/401-600/normal/elec_1-194/elec_{x}.npz\") for x in range(401, 601)\n",
    "] + [\n",
    "    LoadData(path + f\"WT_PK11000/Rep2/601-800/normal/elec_1-194/elec_{x}.npz\") for x in range(601, 801)\n",
    "] + [\n",
    "    LoadData(path + f\"WT_PK11000/Rep2/801-1000/normal/elec_1-194/elec_{x}.npz\") for x in range(801, 1001)\n",
    "] + [\n",
    "    LoadData(path + f\"WT_PK11000/Rep3/1-200/normal/elec_1-194/elec_{x}.npz\") for x in range(1, 201)\n",
    "] + [\n",
    "    LoadData(path + f\"WT_PK11000/Rep3/201-400/normal/elec_1-194/elec_{x}.npz\") for x in range(201, 401)\n",
    "] + [\n",
    "    LoadData(path + f\"WT_PK11000/Rep3/401-600/normal/elec_1-194/elec_{x}.npz\") for x in range(401, 601)\n",
    "] + [\n",
    "    LoadData(path + f\"WT_PK11000/Rep3/601-800/normal/elec_1-194/elec_{x}.npz\") for x in range(601, 801)\n",
    "] + [\n",
    "    LoadData(path + f\"WT_PK11000/Rep3/801-1000/normal/elec_1-194/elec_{x}.npz\") for x in range(801, 1001)\n",
    "] + [\n",
    "    LoadData(path + f\"WT_PK11000/Rep4/1-200/normal/elec_1-194/elec_{x}.npz\") for x in range(1, 201)\n",
    "] + [\n",
    "    LoadData(path + f\"WT_PK11000/Rep4/201-400/normal/elec_1-194/elec_{x}.npz\") for x in range(201, 401)\n",
    "] + [\n",
    "    LoadData(path + f\"WT_PK11000/Rep4/401-600/normal/elec_1-194/elec_{x}.npz\") for x in range(401, 601)\n",
    "] + [\n",
    "    LoadData(path + f\"WT_PK11000/Rep4/601-800/normal/elec_1-194/elec_{x}.npz\") for x in range(601, 801)\n",
    "] + [\n",
    "    LoadData(path + f\"WT_PK11000/Rep4/801-1000/normal/elec_1-194/elec_{x}.npz\") for x in range(801, 1001)\n",
    "]\n",
    "\n",
    "etensor = np.array(etensor)\n",
    "etensor"
   ]
  },
  {
   "cell_type": "markdown",
   "id": "cbde52dc",
   "metadata": {
    "id": "cbde52dc"
   },
   "source": [
    "### Determining Time and Thresh Parameters"
   ]
  },
  {
   "cell_type": "code",
   "execution_count": 13,
   "id": "99703da6",
   "metadata": {
    "id": "99703da6"
   },
   "outputs": [],
   "source": [
    "time = 5\n",
    "thresh = 0.003\n",
    "num_of_pcs = 5\n",
    "\n",
    "kernel = kernel_from_energy_tensor_thresh(etensor,thresh,time)\n",
    "eigens, pcs = make_shared_pca_df(kernel,num_of_pcs,show_var=True)\n",
    "\n",
    "eigens_df = pd.DataFrame(eigens)\n",
    "mean_n_eigens = eigens_df.mean(axis=0)"
   ]
  },
  {
   "cell_type": "markdown",
   "id": "funded-arrow",
   "metadata": {
    "id": "funded-arrow"
   },
   "source": [
    "## PCA Embedding Heat Kernels:"
   ]
  },
  {
   "cell_type": "code",
   "execution_count": 14,
   "id": "potential-prototype",
   "metadata": {
    "id": "potential-prototype"
   },
   "outputs": [],
   "source": [
    "#getting the principle components from the heatkernel\n",
    "#changed the last argument to 2 and it changed stuff. Ask Dylan how many \"components\" I should be doing (2 or 3)? We want 3 typically\n",
    "(_,pcs) = make_shared_pca_df(kernel,3)"
   ]
  },
  {
   "cell_type": "markdown",
   "id": "focused-delight",
   "metadata": {
    "id": "focused-delight"
   },
   "source": [
    "## System Heat Kernel Shared PCA Plots"
   ]
  },
  {
   "cell_type": "code",
   "execution_count": 15,
   "id": "ac8c9612",
   "metadata": {},
   "outputs": [],
   "source": [
    "heat = heat_res_frame_map(kernel, pcs, 4000, 194)"
   ]
  },
  {
   "cell_type": "code",
   "execution_count": 16,
   "id": "da1c8457",
   "metadata": {},
   "outputs": [],
   "source": [
    "heat.to_csv(\"/home/student5/Desktop/Energetics/Processed/DBD_WT_PK11000_Long_Elec_1-194.csv\")"
   ]
  },
  {
   "cell_type": "code",
   "execution_count": 17,
   "id": "935a0d6e",
   "metadata": {},
   "outputs": [],
   "source": [
    "# wt_etensor=np.load('/home/student5/Desktop/Energetics/elec_1.npz')\n",
    "# for x in wt_etensor:\n",
    "#     print(x)\n",
    "\n",
    "path = \"/home/student5/Desktop/Energetics/zfshomes/sstetson/End_Fall23-Pres/Analysis/DBD/ff14SB/Energetics/\"\n",
    "etensor = [\n",
    "    LoadData(path + f\"Y220C/Rep1/1-200/normal/elec_1-194/elec_{x}.npz\") for x in range(1, 201)\n",
    "] + [\n",
    "    LoadData(path + f\"Y220C/Rep1/201-400/normal/elec_1-194/elec_{x}.npz\") for x in range(201, 401)\n",
    "] + [\n",
    "    LoadData(path + f\"Y220C/Rep1/401-600/normal/elec_1-194/elec_{x}.npz\") for x in range(401, 601)\n",
    "] + [\n",
    "    LoadData(path + f\"Y220C/Rep1/601-800/normal/elec_1-194/elec_{x}.npz\") for x in range(601, 801)\n",
    "] + [\n",
    "    LoadData(path + f\"Y220C/Rep1/801-1000/normal/elec_1-194/elec_{x}.npz\") for x in range(801, 1001)\n",
    "] + [\n",
    "    LoadData(path + f\"Y220C/Rep2/1-200/normal/elec_1-194/elec_{x}.npz\") for x in range(1, 201)\n",
    "] + [\n",
    "    LoadData(path + f\"Y220C/Rep2/201-400/normal/elec_1-194/elec_{x}.npz\") for x in range(201, 401)\n",
    "] + [\n",
    "    LoadData(path + f\"Y220C/Rep2/401-600/normal/elec_1-194/elec_{x}.npz\") for x in range(401, 601)\n",
    "] + [\n",
    "    LoadData(path + f\"Y220C/Rep2/601-800/normal/elec_1-194/elec_{x}.npz\") for x in range(601, 801)\n",
    "] + [\n",
    "    LoadData(path + f\"Y220C/Rep2/801-1000/normal/elec_1-194/elec_{x}.npz\") for x in range(801, 1001)\n",
    "] + [\n",
    "    LoadData(path + f\"Y220C/Rep3/1-200/normal/elec_1-194/elec_{x}.npz\") for x in range(1, 201)\n",
    "] + [\n",
    "    LoadData(path + f\"Y220C/Rep3/201-400/normal/elec_1-194/elec_{x}.npz\") for x in range(201, 401)\n",
    "] + [\n",
    "    LoadData(path + f\"Y220C/Rep3/401-600/normal/elec_1-194/elec_{x}.npz\") for x in range(401, 601)\n",
    "] + [\n",
    "    LoadData(path + f\"Y220C/Rep3/601-800/normal/elec_1-194/elec_{x}.npz\") for x in range(601, 801)\n",
    "] + [\n",
    "    LoadData(path + f\"Y220C/Rep3/801-1000/normal/elec_1-194/elec_{x}.npz\") for x in range(801, 1001)\n",
    "] + [\n",
    "    LoadData(path + f\"Y220C/Rep4/1-200/normal/elec_1-194/elec_{x}.npz\") for x in range(1, 201)\n",
    "] + [\n",
    "    LoadData(path + f\"Y220C/Rep4/201-400/normal/elec_1-194/elec_{x}.npz\") for x in range(201, 401)\n",
    "] + [\n",
    "    LoadData(path + f\"Y220C/Rep4/401-600/normal/elec_1-194/elec_{x}.npz\") for x in range(401, 601)\n",
    "] + [\n",
    "    LoadData(path + f\"Y220C/Rep4/601-800/normal/elec_1-194/elec_{x}.npz\") for x in range(601, 801)\n",
    "] + [\n",
    "    LoadData(path + f\"Y220C/Rep4/801-1000/normal/elec_1-194/elec_{x}.npz\") for x in range(801, 1001)\n",
    "]\n",
    "\n",
    "etensor = np.array(etensor)\n",
    "etensor\n",
    "\n",
    "### Determining Time and Thresh Parameters\n",
    "\n",
    "time = 5\n",
    "thresh = 0.003\n",
    "num_of_pcs = 5\n",
    "\n",
    "kernel = kernel_from_energy_tensor_thresh(etensor,thresh,time)\n",
    "eigens, pcs = make_shared_pca_df(kernel,num_of_pcs,show_var=True)\n",
    "\n",
    "eigens_df = pd.DataFrame(eigens)\n",
    "mean_n_eigens = eigens_df.mean(axis=0)\n",
    "\n",
    "## PCA Embedding Heat Kernels:\n",
    "\n",
    "#getting the principle components from the heatkernel\n",
    "#changed the last argument to 2 and it changed stuff. Ask Dylan how many \"components\" I should be doing (2 or 3)? We want 3 typically\n",
    "(_,pcs) = make_shared_pca_df(kernel,3)\n",
    "\n",
    "## System Heat Kernel Shared PCA Plots\n",
    "\n",
    "heat = heat_res_frame_map(kernel, pcs, 4000, 194)\n",
    "\n",
    "heat.to_csv(\"/home/student5/Desktop/Energetics/Processed/DBD_Y220C_Long_Elec_1-194.csv\")"
   ]
  },
  {
   "cell_type": "code",
   "execution_count": 18,
   "id": "9ad8e080",
   "metadata": {},
   "outputs": [],
   "source": [
    "# wt_etensor=np.load('/home/student5/Desktop/Energetics/elec_1.npz')\n",
    "# for x in wt_etensor:\n",
    "#     print(x)\n",
    "\n",
    "path = \"/home/student5/Desktop/Energetics/zfshomes/sstetson/End_Fall23-Pres/Analysis/DBD/ff14SB/Energetics/\"\n",
    "etensor = [\n",
    "    LoadData(path + f\"Y220C_PK11000/Rep1/1-200/normal/elec_1-194/elec_{x}.npz\") for x in range(1, 201)\n",
    "] + [\n",
    "    LoadData(path + f\"Y220C_PK11000/Rep1/201-400/normal/elec_1-194/elec_{x}.npz\") for x in range(201, 401)\n",
    "] + [\n",
    "    LoadData(path + f\"Y220C_PK11000/Rep1/401-600/normal/elec_1-194/elec_{x}.npz\") for x in range(401, 601)\n",
    "] + [\n",
    "    LoadData(path + f\"Y220C_PK11000/Rep1/601-800/normal/elec_1-194/elec_{x}.npz\") for x in range(601, 801)\n",
    "] + [\n",
    "    LoadData(path + f\"Y220C_PK11000/Rep1/801-1000/normal/elec_1-194/elec_{x}.npz\") for x in range(801, 1001)\n",
    "] + [\n",
    "    LoadData(path + f\"Y220C_PK11000/Rep2/1-200/normal/elec_1-194/elec_{x}.npz\") for x in range(1, 201)\n",
    "] + [\n",
    "    LoadData(path + f\"Y220C_PK11000/Rep2/201-400/normal/elec_1-194/elec_{x}.npz\") for x in range(201, 401)\n",
    "] + [\n",
    "    LoadData(path + f\"Y220C_PK11000/Rep2/401-600/normal/elec_1-194/elec_{x}.npz\") for x in range(401, 601)\n",
    "] + [\n",
    "    LoadData(path + f\"Y220C_PK11000/Rep2/601-800/normal/elec_1-194/elec_{x}.npz\") for x in range(601, 801)\n",
    "] + [\n",
    "    LoadData(path + f\"Y220C_PK11000/Rep2/801-1000/normal/elec_1-194/elec_{x}.npz\") for x in range(801, 1001)\n",
    "] + [\n",
    "    LoadData(path + f\"Y220C_PK11000/Rep3/1-200/normal/elec_1-194/elec_{x}.npz\") for x in range(1, 201)\n",
    "] + [\n",
    "    LoadData(path + f\"Y220C_PK11000/Rep3/201-400/normal/elec_1-194/elec_{x}.npz\") for x in range(201, 401)\n",
    "] + [\n",
    "    LoadData(path + f\"Y220C_PK11000/Rep3/401-600/normal/elec_1-194/elec_{x}.npz\") for x in range(401, 601)\n",
    "] + [\n",
    "    LoadData(path + f\"Y220C_PK11000/Rep3/601-800/normal/elec_1-194/elec_{x}.npz\") for x in range(601, 801)\n",
    "] + [\n",
    "    LoadData(path + f\"Y220C_PK11000/Rep3/801-1000/normal/elec_1-194/elec_{x}.npz\") for x in range(801, 1001)\n",
    "] + [\n",
    "    LoadData(path + f\"Y220C_PK11000/Rep4/1-200/normal/elec_1-194/elec_{x}.npz\") for x in range(1, 201)\n",
    "] + [\n",
    "    LoadData(path + f\"Y220C_PK11000/Rep4/201-400/normal/elec_1-194/elec_{x}.npz\") for x in range(201, 401)\n",
    "] + [\n",
    "    LoadData(path + f\"Y220C_PK11000/Rep4/401-600/normal/elec_1-194/elec_{x}.npz\") for x in range(401, 601)\n",
    "] + [\n",
    "    LoadData(path + f\"Y220C_PK11000/Rep4/601-800/normal/elec_1-194/elec_{x}.npz\") for x in range(601, 801)\n",
    "] + [\n",
    "    LoadData(path + f\"Y220C_PK11000/Rep4/801-1000/normal/elec_1-194/elec_{x}.npz\") for x in range(801, 1001)\n",
    "]\n",
    "\n",
    "etensor = np.array(etensor)\n",
    "etensor\n",
    "\n",
    "### Determining Time and Thresh Parameters\n",
    "\n",
    "time = 5\n",
    "thresh = 0.003\n",
    "num_of_pcs = 5\n",
    "\n",
    "kernel = kernel_from_energy_tensor_thresh(etensor,thresh,time)\n",
    "eigens, pcs = make_shared_pca_df(kernel,num_of_pcs,show_var=True)\n",
    "\n",
    "eigens_df = pd.DataFrame(eigens)\n",
    "mean_n_eigens = eigens_df.mean(axis=0)\n",
    "\n",
    "## PCA Embedding Heat Kernels:\n",
    "\n",
    "#getting the principle components from the heatkernel\n",
    "#changed the last argument to 2 and it changed stuff. Ask Dylan how many \"components\" I should be doing (2 or 3)? We want 3 typically\n",
    "(_,pcs) = make_shared_pca_df(kernel,3)\n",
    "\n",
    "## System Heat Kernel Shared PCA Plots\n",
    "\n",
    "heat = heat_res_frame_map(kernel, pcs, 4000, 194)\n",
    "\n",
    "heat.to_csv(\"/home/student5/Desktop/Energetics/Processed/DBD_Y220C_PK11000_Long_Elec_1-194.csv\")"
   ]
  }
 ],
 "metadata": {
  "colab": {
   "provenance": []
  },
  "kernelspec": {
   "display_name": "AmberTools23",
   "language": "python",
   "name": "ambertools23"
  },
  "language_info": {
   "codemirror_mode": {
    "name": "ipython",
    "version": 3
   },
   "file_extension": ".py",
   "mimetype": "text/x-python",
   "name": "python",
   "nbconvert_exporter": "python",
   "pygments_lexer": "ipython3",
   "version": "3.11.4"
  }
 },
 "nbformat": 4,
 "nbformat_minor": 5
}
